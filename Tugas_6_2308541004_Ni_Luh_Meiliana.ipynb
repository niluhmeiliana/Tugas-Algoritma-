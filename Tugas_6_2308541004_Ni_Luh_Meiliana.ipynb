{
  "nbformat": 4,
  "nbformat_minor": 0,
  "metadata": {
    "colab": {
      "provenance": []
    },
    "kernelspec": {
      "name": "python3",
      "display_name": "Python 3"
    },
    "language_info": {
      "name": "python"
    }
  },
  "cells": [
    {
      "cell_type": "code",
      "execution_count": 2,
      "metadata": {
        "colab": {
          "base_uri": "https://localhost:8080/"
        },
        "id": "6rXME95pboAF",
        "outputId": "12fa2f04-0e46-41e4-a326-df7f346a1bc5"
      },
      "outputs": [
        {
          "output_type": "stream",
          "name": "stdout",
          "text": [
            "[ 1  3  5  7  9 11]\n"
          ]
        }
      ],
      "source": [
        "import numpy as np\n",
        "m_04 = np.array([1,3,5,7,9,11])\n",
        "print(m_04)"
      ]
    },
    {
      "cell_type": "code",
      "source": [
        "m_04.ndim"
      ],
      "metadata": {
        "colab": {
          "base_uri": "https://localhost:8080/"
        },
        "id": "61rCChxQcRQw",
        "outputId": "d70d4271-4970-4ad6-bdfc-59b048256c52"
      },
      "execution_count": null,
      "outputs": [
        {
          "output_type": "execute_result",
          "data": {
            "text/plain": [
              "1"
            ]
          },
          "metadata": {},
          "execution_count": 38
        }
      ]
    },
    {
      "cell_type": "code",
      "source": [
        "m_04.shape"
      ],
      "metadata": {
        "colab": {
          "base_uri": "https://localhost:8080/"
        },
        "id": "KsSVEws8cXWr",
        "outputId": "24738df8-86f8-4085-a1f9-74a5462f392b"
      },
      "execution_count": null,
      "outputs": [
        {
          "output_type": "execute_result",
          "data": {
            "text/plain": [
              "(6,)"
            ]
          },
          "metadata": {},
          "execution_count": 39
        }
      ]
    },
    {
      "cell_type": "code",
      "source": [
        "e_04 = np.array([[2,4,6,8],[10,4,6,8]])\n",
        "print(e_04)"
      ],
      "metadata": {
        "colab": {
          "base_uri": "https://localhost:8080/"
        },
        "id": "IuUEFTmecacc",
        "outputId": "ad1ed11b-57e7-4f58-cd3f-f239b6a1a53e"
      },
      "execution_count": null,
      "outputs": [
        {
          "output_type": "stream",
          "name": "stdout",
          "text": [
            "[[ 2  4  6  8]\n",
            " [10  4  6  8]]\n"
          ]
        }
      ]
    },
    {
      "cell_type": "code",
      "source": [
        "e_04.ndim\n"
      ],
      "metadata": {
        "colab": {
          "base_uri": "https://localhost:8080/"
        },
        "id": "A8o6U6jGcnXD",
        "outputId": "9df1b44f-df51-4b84-8910-7ed07f18f937"
      },
      "execution_count": null,
      "outputs": [
        {
          "output_type": "execute_result",
          "data": {
            "text/plain": [
              "2"
            ]
          },
          "metadata": {},
          "execution_count": 41
        }
      ]
    },
    {
      "cell_type": "code",
      "source": [
        "e_04.shape"
      ],
      "metadata": {
        "colab": {
          "base_uri": "https://localhost:8080/"
        },
        "id": "aZublpL8c6EG",
        "outputId": "1036f1d3-be80-475e-e9f4-7bc5f438126e"
      },
      "execution_count": null,
      "outputs": [
        {
          "output_type": "execute_result",
          "data": {
            "text/plain": [
              "(2, 4)"
            ]
          },
          "metadata": {},
          "execution_count": 42
        }
      ]
    },
    {
      "cell_type": "code",
      "source": [
        "i_04 = np.array([[[1,3,5,7],[9,11,13,15]],\n",
        "                 [[2,4,6,8],[10,12,14,16]],\n",
        "                 [[1,2,3,4],[5,6,7,8]]])\n",
        "print(i_04)"
      ],
      "metadata": {
        "colab": {
          "base_uri": "https://localhost:8080/"
        },
        "id": "wH1hTZskc86g",
        "outputId": "af308e24-ab2c-4eed-c6ab-1c75f450ed33"
      },
      "execution_count": null,
      "outputs": [
        {
          "output_type": "stream",
          "name": "stdout",
          "text": [
            "[[[ 1  3  5  7]\n",
            "  [ 9 11 13 15]]\n",
            "\n",
            " [[ 2  4  6  8]\n",
            "  [10 12 14 16]]\n",
            "\n",
            " [[ 1  2  3  4]\n",
            "  [ 5  6  7  8]]]\n"
          ]
        }
      ]
    },
    {
      "cell_type": "code",
      "source": [
        "i_04.ndim"
      ],
      "metadata": {
        "colab": {
          "base_uri": "https://localhost:8080/"
        },
        "id": "OokD0yZRdlcr",
        "outputId": "1b150996-fcf0-4580-a30a-c28753895634"
      },
      "execution_count": null,
      "outputs": [
        {
          "output_type": "execute_result",
          "data": {
            "text/plain": [
              "3"
            ]
          },
          "metadata": {},
          "execution_count": 44
        }
      ]
    },
    {
      "cell_type": "code",
      "source": [
        "i_04.shape"
      ],
      "metadata": {
        "colab": {
          "base_uri": "https://localhost:8080/"
        },
        "id": "38FrZ5CadqEr",
        "outputId": "6a997e33-f588-4f13-b5bc-726f6e5c7dd5"
      },
      "execution_count": null,
      "outputs": [
        {
          "output_type": "execute_result",
          "data": {
            "text/plain": [
              "(3, 2, 4)"
            ]
          },
          "metadata": {},
          "execution_count": 45
        }
      ]
    },
    {
      "cell_type": "code",
      "source": [
        "a_04 = np.array([[-1,-2,-3,-4],[-3,-5,-7,-9],[-5,-6,-7,-8]])\n",
        "print(a_04)"
      ],
      "metadata": {
        "colab": {
          "base_uri": "https://localhost:8080/"
        },
        "id": "MtgWlSjgduKn",
        "outputId": "f9314027-e58e-4b61-cbaf-f9374a25bc2a"
      },
      "execution_count": null,
      "outputs": [
        {
          "output_type": "stream",
          "name": "stdout",
          "text": [
            "[[-1 -2 -3 -4]\n",
            " [-3 -5 -7 -9]\n",
            " [-5 -6 -7 -8]]\n"
          ]
        }
      ]
    },
    {
      "cell_type": "code",
      "source": [
        "a_04[0,3]"
      ],
      "metadata": {
        "colab": {
          "base_uri": "https://localhost:8080/"
        },
        "id": "z5FD9Txoea3L",
        "outputId": "bbd8320a-b4ef-4973-f469-641a33079b72"
      },
      "execution_count": null,
      "outputs": [
        {
          "output_type": "execute_result",
          "data": {
            "text/plain": [
              "-4"
            ]
          },
          "metadata": {},
          "execution_count": 47
        }
      ]
    },
    {
      "cell_type": "code",
      "source": [
        "a_04[2,:]"
      ],
      "metadata": {
        "colab": {
          "base_uri": "https://localhost:8080/"
        },
        "id": "GghxsoXnefkw",
        "outputId": "2ed1cc17-f901-4eb8-a0ad-5cebd3ec5d21"
      },
      "execution_count": null,
      "outputs": [
        {
          "output_type": "execute_result",
          "data": {
            "text/plain": [
              "array([-5, -6, -7, -8])"
            ]
          },
          "metadata": {},
          "execution_count": 48
        }
      ]
    },
    {
      "cell_type": "code",
      "source": [
        "a_04[:,1]"
      ],
      "metadata": {
        "colab": {
          "base_uri": "https://localhost:8080/"
        },
        "id": "CYneKsLeeijn",
        "outputId": "bb6c668d-742d-47b2-e351-48842ec31cdd"
      },
      "execution_count": null,
      "outputs": [
        {
          "output_type": "execute_result",
          "data": {
            "text/plain": [
              "array([-2, -5, -6])"
            ]
          },
          "metadata": {},
          "execution_count": 49
        }
      ]
    },
    {
      "cell_type": "code",
      "source": [
        "a_04[0,1:3]"
      ],
      "metadata": {
        "colab": {
          "base_uri": "https://localhost:8080/"
        },
        "id": "K_mvRcXCem0K",
        "outputId": "3d2c93e8-7cc2-48e7-c187-2549eb00c25a"
      },
      "execution_count": null,
      "outputs": [
        {
          "output_type": "execute_result",
          "data": {
            "text/plain": [
              "array([-2, -3])"
            ]
          },
          "metadata": {},
          "execution_count": 50
        }
      ]
    },
    {
      "cell_type": "code",
      "source": [
        "a_04[0,0:3:2]"
      ],
      "metadata": {
        "colab": {
          "base_uri": "https://localhost:8080/"
        },
        "id": "xr3W2U41ex9N",
        "outputId": "993ef7ee-d66e-4d7c-ce2b-2ed19647b3fb"
      },
      "execution_count": null,
      "outputs": [
        {
          "output_type": "execute_result",
          "data": {
            "text/plain": [
              "array([-1, -3])"
            ]
          },
          "metadata": {},
          "execution_count": 51
        }
      ]
    },
    {
      "cell_type": "code",
      "source": [
        "a_04[0,2] = -11\n",
        "print(a_04)"
      ],
      "metadata": {
        "colab": {
          "base_uri": "https://localhost:8080/"
        },
        "id": "eWmVUNoWe2WT",
        "outputId": "85a228cd-2a79-4a44-f1c8-27c4d9dfb241"
      },
      "execution_count": null,
      "outputs": [
        {
          "output_type": "stream",
          "name": "stdout",
          "text": [
            "[[ -1  -2 -11  -4]\n",
            " [ -3  -5  -7  -9]\n",
            " [ -5  -6  -7  -8]]\n"
          ]
        }
      ]
    },
    {
      "cell_type": "code",
      "source": [
        "a_04[2,3] = -27\n",
        "print(a_04)"
      ],
      "metadata": {
        "colab": {
          "base_uri": "https://localhost:8080/"
        },
        "id": "3a3RkS4ve6Uc",
        "outputId": "d74f63ef-016f-4b0e-c880-0e3618e6deaa"
      },
      "execution_count": null,
      "outputs": [
        {
          "output_type": "stream",
          "name": "stdout",
          "text": [
            "[[ -1  -2 -11  -4]\n",
            " [ -3  -5  -7  -9]\n",
            " [ -5  -6  -7 -27]]\n"
          ]
        }
      ]
    },
    {
      "cell_type": "code",
      "source": [
        "np.ones((3,8))"
      ],
      "metadata": {
        "colab": {
          "base_uri": "https://localhost:8080/"
        },
        "id": "OwLREq6rga79",
        "outputId": "27a6da23-b894-4877-f2f8-34e655c600ef"
      },
      "execution_count": null,
      "outputs": [
        {
          "output_type": "execute_result",
          "data": {
            "text/plain": [
              "array([[1., 1., 1., 1., 1., 1., 1., 1.],\n",
              "       [1., 1., 1., 1., 1., 1., 1., 1.],\n",
              "       [1., 1., 1., 1., 1., 1., 1., 1.]])"
            ]
          },
          "metadata": {},
          "execution_count": 54
        }
      ]
    },
    {
      "cell_type": "code",
      "source": [
        "np.zeros((6,9))"
      ],
      "metadata": {
        "colab": {
          "base_uri": "https://localhost:8080/"
        },
        "id": "J7_VRBeeg0PL",
        "outputId": "590afcaf-e779-4070-b5e4-99b72eec5d73"
      },
      "execution_count": null,
      "outputs": [
        {
          "output_type": "execute_result",
          "data": {
            "text/plain": [
              "array([[0., 0., 0., 0., 0., 0., 0., 0., 0.],\n",
              "       [0., 0., 0., 0., 0., 0., 0., 0., 0.],\n",
              "       [0., 0., 0., 0., 0., 0., 0., 0., 0.],\n",
              "       [0., 0., 0., 0., 0., 0., 0., 0., 0.],\n",
              "       [0., 0., 0., 0., 0., 0., 0., 0., 0.],\n",
              "       [0., 0., 0., 0., 0., 0., 0., 0., 0.]])"
            ]
          },
          "metadata": {},
          "execution_count": 55
        }
      ]
    },
    {
      "cell_type": "code",
      "source": [
        "np.identity(6)"
      ],
      "metadata": {
        "colab": {
          "base_uri": "https://localhost:8080/"
        },
        "id": "GC9VqoEWg4kz",
        "outputId": "61455f34-2b76-4c7a-fd84-6bc362e38a82"
      },
      "execution_count": null,
      "outputs": [
        {
          "output_type": "execute_result",
          "data": {
            "text/plain": [
              "array([[1., 0., 0., 0., 0., 0.],\n",
              "       [0., 1., 0., 0., 0., 0.],\n",
              "       [0., 0., 1., 0., 0., 0.],\n",
              "       [0., 0., 0., 1., 0., 0.],\n",
              "       [0., 0., 0., 0., 1., 0.],\n",
              "       [0., 0., 0., 0., 0., 1.]])"
            ]
          },
          "metadata": {},
          "execution_count": 56
        }
      ]
    },
    {
      "cell_type": "code",
      "source": [
        "np.ones((2,8,5))"
      ],
      "metadata": {
        "colab": {
          "base_uri": "https://localhost:8080/"
        },
        "id": "i_-0CbUNg_sV",
        "outputId": "c402da2e-b959-4012-f1ef-0d99c83acc4b"
      },
      "execution_count": null,
      "outputs": [
        {
          "output_type": "execute_result",
          "data": {
            "text/plain": [
              "array([[[1., 1., 1., 1., 1.],\n",
              "        [1., 1., 1., 1., 1.],\n",
              "        [1., 1., 1., 1., 1.],\n",
              "        [1., 1., 1., 1., 1.],\n",
              "        [1., 1., 1., 1., 1.],\n",
              "        [1., 1., 1., 1., 1.],\n",
              "        [1., 1., 1., 1., 1.],\n",
              "        [1., 1., 1., 1., 1.]],\n",
              "\n",
              "       [[1., 1., 1., 1., 1.],\n",
              "        [1., 1., 1., 1., 1.],\n",
              "        [1., 1., 1., 1., 1.],\n",
              "        [1., 1., 1., 1., 1.],\n",
              "        [1., 1., 1., 1., 1.],\n",
              "        [1., 1., 1., 1., 1.],\n",
              "        [1., 1., 1., 1., 1.],\n",
              "        [1., 1., 1., 1., 1.]]])"
            ]
          },
          "metadata": {},
          "execution_count": 57
        }
      ]
    },
    {
      "cell_type": "code",
      "source": [
        "np.full((5,5),8)"
      ],
      "metadata": {
        "colab": {
          "base_uri": "https://localhost:8080/"
        },
        "id": "VzmHSXFJhExH",
        "outputId": "b24c51d8-9e96-4c3c-e884-acbb01de65c9"
      },
      "execution_count": null,
      "outputs": [
        {
          "output_type": "execute_result",
          "data": {
            "text/plain": [
              "array([[8, 8, 8, 8, 8],\n",
              "       [8, 8, 8, 8, 8],\n",
              "       [8, 8, 8, 8, 8],\n",
              "       [8, 8, 8, 8, 8],\n",
              "       [8, 8, 8, 8, 8]])"
            ]
          },
          "metadata": {},
          "execution_count": 58
        }
      ]
    },
    {
      "cell_type": "code",
      "source": [
        "np.random.rand(5,3)"
      ],
      "metadata": {
        "colab": {
          "base_uri": "https://localhost:8080/"
        },
        "id": "O2PP15tehKEk",
        "outputId": "1487c932-16cf-42cf-a9c4-af8b3ff2522d"
      },
      "execution_count": null,
      "outputs": [
        {
          "output_type": "execute_result",
          "data": {
            "text/plain": [
              "array([[0.83292017, 0.63338864, 0.52029461],\n",
              "       [0.38821489, 0.38024245, 0.96261601],\n",
              "       [0.19235785, 0.80856694, 0.97850886],\n",
              "       [0.87983902, 0.45901216, 0.19016257],\n",
              "       [0.32764847, 0.79129936, 0.45871739]])"
            ]
          },
          "metadata": {},
          "execution_count": 59
        }
      ]
    },
    {
      "cell_type": "code",
      "source": [
        "np.random.randint(1,10,size=(2,5))"
      ],
      "metadata": {
        "colab": {
          "base_uri": "https://localhost:8080/"
        },
        "id": "QMRoDfTvhqRb",
        "outputId": "11c06a5b-4d59-4410-abb4-2b5743a1f3ca"
      },
      "execution_count": null,
      "outputs": [
        {
          "output_type": "execute_result",
          "data": {
            "text/plain": [
              "array([[2, 4, 5, 9, 5],\n",
              "       [9, 5, 3, 9, 5]])"
            ]
          },
          "metadata": {},
          "execution_count": 60
        }
      ]
    },
    {
      "cell_type": "code",
      "source": [
        "n_04 = np.zeros((15,15))\n",
        "print(n_04)\n",
        "print('==============================')\n",
        "d_04 = np.identity(15)\n",
        "print(d_04)"
      ],
      "metadata": {
        "colab": {
          "base_uri": "https://localhost:8080/"
        },
        "id": "nSrxyfhih3Dk",
        "outputId": "372a5bae-4d95-4478-e74d-b530b3a1ad9b"
      },
      "execution_count": null,
      "outputs": [
        {
          "output_type": "stream",
          "name": "stdout",
          "text": [
            "[[0. 0. 0. 0. 0. 0. 0. 0. 0. 0. 0. 0. 0. 0. 0.]\n",
            " [0. 0. 0. 0. 0. 0. 0. 0. 0. 0. 0. 0. 0. 0. 0.]\n",
            " [0. 0. 0. 0. 0. 0. 0. 0. 0. 0. 0. 0. 0. 0. 0.]\n",
            " [0. 0. 0. 0. 0. 0. 0. 0. 0. 0. 0. 0. 0. 0. 0.]\n",
            " [0. 0. 0. 0. 0. 0. 0. 0. 0. 0. 0. 0. 0. 0. 0.]\n",
            " [0. 0. 0. 0. 0. 0. 0. 0. 0. 0. 0. 0. 0. 0. 0.]\n",
            " [0. 0. 0. 0. 0. 0. 0. 0. 0. 0. 0. 0. 0. 0. 0.]\n",
            " [0. 0. 0. 0. 0. 0. 0. 0. 0. 0. 0. 0. 0. 0. 0.]\n",
            " [0. 0. 0. 0. 0. 0. 0. 0. 0. 0. 0. 0. 0. 0. 0.]\n",
            " [0. 0. 0. 0. 0. 0. 0. 0. 0. 0. 0. 0. 0. 0. 0.]\n",
            " [0. 0. 0. 0. 0. 0. 0. 0. 0. 0. 0. 0. 0. 0. 0.]\n",
            " [0. 0. 0. 0. 0. 0. 0. 0. 0. 0. 0. 0. 0. 0. 0.]\n",
            " [0. 0. 0. 0. 0. 0. 0. 0. 0. 0. 0. 0. 0. 0. 0.]\n",
            " [0. 0. 0. 0. 0. 0. 0. 0. 0. 0. 0. 0. 0. 0. 0.]\n",
            " [0. 0. 0. 0. 0. 0. 0. 0. 0. 0. 0. 0. 0. 0. 0.]]\n",
            "==============================\n",
            "[[1. 0. 0. 0. 0. 0. 0. 0. 0. 0. 0. 0. 0. 0. 0.]\n",
            " [0. 1. 0. 0. 0. 0. 0. 0. 0. 0. 0. 0. 0. 0. 0.]\n",
            " [0. 0. 1. 0. 0. 0. 0. 0. 0. 0. 0. 0. 0. 0. 0.]\n",
            " [0. 0. 0. 1. 0. 0. 0. 0. 0. 0. 0. 0. 0. 0. 0.]\n",
            " [0. 0. 0. 0. 1. 0. 0. 0. 0. 0. 0. 0. 0. 0. 0.]\n",
            " [0. 0. 0. 0. 0. 1. 0. 0. 0. 0. 0. 0. 0. 0. 0.]\n",
            " [0. 0. 0. 0. 0. 0. 1. 0. 0. 0. 0. 0. 0. 0. 0.]\n",
            " [0. 0. 0. 0. 0. 0. 0. 1. 0. 0. 0. 0. 0. 0. 0.]\n",
            " [0. 0. 0. 0. 0. 0. 0. 0. 1. 0. 0. 0. 0. 0. 0.]\n",
            " [0. 0. 0. 0. 0. 0. 0. 0. 0. 1. 0. 0. 0. 0. 0.]\n",
            " [0. 0. 0. 0. 0. 0. 0. 0. 0. 0. 1. 0. 0. 0. 0.]\n",
            " [0. 0. 0. 0. 0. 0. 0. 0. 0. 0. 0. 1. 0. 0. 0.]\n",
            " [0. 0. 0. 0. 0. 0. 0. 0. 0. 0. 0. 0. 1. 0. 0.]\n",
            " [0. 0. 0. 0. 0. 0. 0. 0. 0. 0. 0. 0. 0. 1. 0.]\n",
            " [0. 0. 0. 0. 0. 0. 0. 0. 0. 0. 0. 0. 0. 0. 1.]]\n"
          ]
        }
      ]
    },
    {
      "cell_type": "code",
      "source": [
        "h_04 = 14*d_04\n",
        "print(h_04)"
      ],
      "metadata": {
        "colab": {
          "base_uri": "https://localhost:8080/"
        },
        "id": "YW0xoNEviVQg",
        "outputId": "63f45b3a-6829-4d29-8f74-0f0a2c4740a0"
      },
      "execution_count": null,
      "outputs": [
        {
          "output_type": "stream",
          "name": "stdout",
          "text": [
            "[[14.  0.  0.  0.  0.  0.  0.  0.  0.  0.  0.  0.  0.  0.  0.]\n",
            " [ 0. 14.  0.  0.  0.  0.  0.  0.  0.  0.  0.  0.  0.  0.  0.]\n",
            " [ 0.  0. 14.  0.  0.  0.  0.  0.  0.  0.  0.  0.  0.  0.  0.]\n",
            " [ 0.  0.  0. 14.  0.  0.  0.  0.  0.  0.  0.  0.  0.  0.  0.]\n",
            " [ 0.  0.  0.  0. 14.  0.  0.  0.  0.  0.  0.  0.  0.  0.  0.]\n",
            " [ 0.  0.  0.  0.  0. 14.  0.  0.  0.  0.  0.  0.  0.  0.  0.]\n",
            " [ 0.  0.  0.  0.  0.  0. 14.  0.  0.  0.  0.  0.  0.  0.  0.]\n",
            " [ 0.  0.  0.  0.  0.  0.  0. 14.  0.  0.  0.  0.  0.  0.  0.]\n",
            " [ 0.  0.  0.  0.  0.  0.  0.  0. 14.  0.  0.  0.  0.  0.  0.]\n",
            " [ 0.  0.  0.  0.  0.  0.  0.  0.  0. 14.  0.  0.  0.  0.  0.]\n",
            " [ 0.  0.  0.  0.  0.  0.  0.  0.  0.  0. 14.  0.  0.  0.  0.]\n",
            " [ 0.  0.  0.  0.  0.  0.  0.  0.  0.  0.  0. 14.  0.  0.  0.]\n",
            " [ 0.  0.  0.  0.  0.  0.  0.  0.  0.  0.  0.  0. 14.  0.  0.]\n",
            " [ 0.  0.  0.  0.  0.  0.  0.  0.  0.  0.  0.  0.  0. 14.  0.]\n",
            " [ 0.  0.  0.  0.  0.  0.  0.  0.  0.  0.  0.  0.  0.  0. 14.]]\n"
          ]
        }
      ]
    },
    {
      "cell_type": "code",
      "source": [
        "w_04 = np.ones((13,13))\n",
        "print(w_04)\n",
        "print('===============================')\n",
        "g_04 = np.identity(13)*13\n",
        "print(g_04)\n",
        "print('===============================')\n",
        "c_04 = w_04+g_04\n",
        "print(c_04)"
      ],
      "metadata": {
        "colab": {
          "base_uri": "https://localhost:8080/"
        },
        "id": "NYPhY_AtipVV",
        "outputId": "6f5ee893-3f5b-43c6-be16-bea4f9bd32f7"
      },
      "execution_count": null,
      "outputs": [
        {
          "output_type": "stream",
          "name": "stdout",
          "text": [
            "[[1. 1. 1. 1. 1. 1. 1. 1. 1. 1. 1. 1. 1.]\n",
            " [1. 1. 1. 1. 1. 1. 1. 1. 1. 1. 1. 1. 1.]\n",
            " [1. 1. 1. 1. 1. 1. 1. 1. 1. 1. 1. 1. 1.]\n",
            " [1. 1. 1. 1. 1. 1. 1. 1. 1. 1. 1. 1. 1.]\n",
            " [1. 1. 1. 1. 1. 1. 1. 1. 1. 1. 1. 1. 1.]\n",
            " [1. 1. 1. 1. 1. 1. 1. 1. 1. 1. 1. 1. 1.]\n",
            " [1. 1. 1. 1. 1. 1. 1. 1. 1. 1. 1. 1. 1.]\n",
            " [1. 1. 1. 1. 1. 1. 1. 1. 1. 1. 1. 1. 1.]\n",
            " [1. 1. 1. 1. 1. 1. 1. 1. 1. 1. 1. 1. 1.]\n",
            " [1. 1. 1. 1. 1. 1. 1. 1. 1. 1. 1. 1. 1.]\n",
            " [1. 1. 1. 1. 1. 1. 1. 1. 1. 1. 1. 1. 1.]\n",
            " [1. 1. 1. 1. 1. 1. 1. 1. 1. 1. 1. 1. 1.]\n",
            " [1. 1. 1. 1. 1. 1. 1. 1. 1. 1. 1. 1. 1.]]\n",
            "===============================\n",
            "[[13.  0.  0.  0.  0.  0.  0.  0.  0.  0.  0.  0.  0.]\n",
            " [ 0. 13.  0.  0.  0.  0.  0.  0.  0.  0.  0.  0.  0.]\n",
            " [ 0.  0. 13.  0.  0.  0.  0.  0.  0.  0.  0.  0.  0.]\n",
            " [ 0.  0.  0. 13.  0.  0.  0.  0.  0.  0.  0.  0.  0.]\n",
            " [ 0.  0.  0.  0. 13.  0.  0.  0.  0.  0.  0.  0.  0.]\n",
            " [ 0.  0.  0.  0.  0. 13.  0.  0.  0.  0.  0.  0.  0.]\n",
            " [ 0.  0.  0.  0.  0.  0. 13.  0.  0.  0.  0.  0.  0.]\n",
            " [ 0.  0.  0.  0.  0.  0.  0. 13.  0.  0.  0.  0.  0.]\n",
            " [ 0.  0.  0.  0.  0.  0.  0.  0. 13.  0.  0.  0.  0.]\n",
            " [ 0.  0.  0.  0.  0.  0.  0.  0.  0. 13.  0.  0.  0.]\n",
            " [ 0.  0.  0.  0.  0.  0.  0.  0.  0.  0. 13.  0.  0.]\n",
            " [ 0.  0.  0.  0.  0.  0.  0.  0.  0.  0.  0. 13.  0.]\n",
            " [ 0.  0.  0.  0.  0.  0.  0.  0.  0.  0.  0.  0. 13.]]\n",
            "===============================\n",
            "[[14.  1.  1.  1.  1.  1.  1.  1.  1.  1.  1.  1.  1.]\n",
            " [ 1. 14.  1.  1.  1.  1.  1.  1.  1.  1.  1.  1.  1.]\n",
            " [ 1.  1. 14.  1.  1.  1.  1.  1.  1.  1.  1.  1.  1.]\n",
            " [ 1.  1.  1. 14.  1.  1.  1.  1.  1.  1.  1.  1.  1.]\n",
            " [ 1.  1.  1.  1. 14.  1.  1.  1.  1.  1.  1.  1.  1.]\n",
            " [ 1.  1.  1.  1.  1. 14.  1.  1.  1.  1.  1.  1.  1.]\n",
            " [ 1.  1.  1.  1.  1.  1. 14.  1.  1.  1.  1.  1.  1.]\n",
            " [ 1.  1.  1.  1.  1.  1.  1. 14.  1.  1.  1.  1.  1.]\n",
            " [ 1.  1.  1.  1.  1.  1.  1.  1. 14.  1.  1.  1.  1.]\n",
            " [ 1.  1.  1.  1.  1.  1.  1.  1.  1. 14.  1.  1.  1.]\n",
            " [ 1.  1.  1.  1.  1.  1.  1.  1.  1.  1. 14.  1.  1.]\n",
            " [ 1.  1.  1.  1.  1.  1.  1.  1.  1.  1.  1. 14.  1.]\n",
            " [ 1.  1.  1.  1.  1.  1.  1.  1.  1.  1.  1.  1. 14.]]\n"
          ]
        }
      ]
    },
    {
      "cell_type": "code",
      "source": [
        "c_04"
      ],
      "metadata": {
        "colab": {
          "base_uri": "https://localhost:8080/"
        },
        "id": "6hp__U2wjpk4",
        "outputId": "e7520d5c-5117-4bcd-b16c-c7cb661ed36b"
      },
      "execution_count": null,
      "outputs": [
        {
          "output_type": "execute_result",
          "data": {
            "text/plain": [
              "array([[14.,  1.,  1.,  1.,  1.,  1.,  1.,  1.,  1.,  1.,  1.,  1.,  1.],\n",
              "       [ 1., 14.,  1.,  1.,  1.,  1.,  1.,  1.,  1.,  1.,  1.,  1.,  1.],\n",
              "       [ 1.,  1., 14.,  1.,  1.,  1.,  1.,  1.,  1.,  1.,  1.,  1.,  1.],\n",
              "       [ 1.,  1.,  1., 14.,  1.,  1.,  1.,  1.,  1.,  1.,  1.,  1.,  1.],\n",
              "       [ 1.,  1.,  1.,  1., 14.,  1.,  1.,  1.,  1.,  1.,  1.,  1.,  1.],\n",
              "       [ 1.,  1.,  1.,  1.,  1., 14.,  1.,  1.,  1.,  1.,  1.,  1.,  1.],\n",
              "       [ 1.,  1.,  1.,  1.,  1.,  1., 14.,  1.,  1.,  1.,  1.,  1.,  1.],\n",
              "       [ 1.,  1.,  1.,  1.,  1.,  1.,  1., 14.,  1.,  1.,  1.,  1.,  1.],\n",
              "       [ 1.,  1.,  1.,  1.,  1.,  1.,  1.,  1., 14.,  1.,  1.,  1.,  1.],\n",
              "       [ 1.,  1.,  1.,  1.,  1.,  1.,  1.,  1.,  1., 14.,  1.,  1.,  1.],\n",
              "       [ 1.,  1.,  1.,  1.,  1.,  1.,  1.,  1.,  1.,  1., 14.,  1.,  1.],\n",
              "       [ 1.,  1.,  1.,  1.,  1.,  1.,  1.,  1.,  1.,  1.,  1., 14.,  1.],\n",
              "       [ 1.,  1.,  1.,  1.,  1.,  1.,  1.,  1.,  1.,  1.,  1.,  1., 14.]])"
            ]
          },
          "metadata": {},
          "execution_count": 64
        }
      ]
    },
    {
      "cell_type": "code",
      "source": [
        "h_04[1:-1,1:-1] = c_04\n",
        "print(h_04)"
      ],
      "metadata": {
        "colab": {
          "base_uri": "https://localhost:8080/"
        },
        "id": "iUVRPHu-j17H",
        "outputId": "73ef8e4b-6b69-4735-f9b2-b30c6960a2f9"
      },
      "execution_count": null,
      "outputs": [
        {
          "output_type": "stream",
          "name": "stdout",
          "text": [
            "[[14.  0.  0.  0.  0.  0.  0.  0.  0.  0.  0.  0.  0.  0.  0.]\n",
            " [ 0. 14.  1.  1.  1.  1.  1.  1.  1.  1.  1.  1.  1.  1.  0.]\n",
            " [ 0.  1. 14.  1.  1.  1.  1.  1.  1.  1.  1.  1.  1.  1.  0.]\n",
            " [ 0.  1.  1. 14.  1.  1.  1.  1.  1.  1.  1.  1.  1.  1.  0.]\n",
            " [ 0.  1.  1.  1. 14.  1.  1.  1.  1.  1.  1.  1.  1.  1.  0.]\n",
            " [ 0.  1.  1.  1.  1. 14.  1.  1.  1.  1.  1.  1.  1.  1.  0.]\n",
            " [ 0.  1.  1.  1.  1.  1. 14.  1.  1.  1.  1.  1.  1.  1.  0.]\n",
            " [ 0.  1.  1.  1.  1.  1.  1. 14.  1.  1.  1.  1.  1.  1.  0.]\n",
            " [ 0.  1.  1.  1.  1.  1.  1.  1. 14.  1.  1.  1.  1.  1.  0.]\n",
            " [ 0.  1.  1.  1.  1.  1.  1.  1.  1. 14.  1.  1.  1.  1.  0.]\n",
            " [ 0.  1.  1.  1.  1.  1.  1.  1.  1.  1. 14.  1.  1.  1.  0.]\n",
            " [ 0.  1.  1.  1.  1.  1.  1.  1.  1.  1.  1. 14.  1.  1.  0.]\n",
            " [ 0.  1.  1.  1.  1.  1.  1.  1.  1.  1.  1.  1. 14.  1.  0.]\n",
            " [ 0.  1.  1.  1.  1.  1.  1.  1.  1.  1.  1.  1.  1. 14.  0.]\n",
            " [ 0.  0.  0.  0.  0.  0.  0.  0.  0.  0.  0.  0.  0.  0. 14.]]\n"
          ]
        }
      ]
    },
    {
      "cell_type": "code",
      "source": [
        "i_04 = np.identity(11)*14\n",
        "h_04[2:-2,2:-2] = i_04\n",
        "print(h_04)"
      ],
      "metadata": {
        "colab": {
          "base_uri": "https://localhost:8080/"
        },
        "id": "BWsz9JSRM-5Q",
        "outputId": "f21a7066-8630-4547-b2ed-14a570684707"
      },
      "execution_count": null,
      "outputs": [
        {
          "output_type": "stream",
          "name": "stdout",
          "text": [
            "[[14.  0.  0.  0.  0.  0.  0.  0.  0.  0.  0.  0.  0.  0.  0.]\n",
            " [ 0. 14.  1.  1.  1.  1.  1.  1.  1.  1.  1.  1.  1.  1.  0.]\n",
            " [ 0.  1. 14.  0.  0.  0.  0.  0.  0.  0.  0.  0.  0.  1.  0.]\n",
            " [ 0.  1.  0. 14.  0.  0.  0.  0.  0.  0.  0.  0.  0.  1.  0.]\n",
            " [ 0.  1.  0.  0. 14.  0.  0.  0.  0.  0.  0.  0.  0.  1.  0.]\n",
            " [ 0.  1.  0.  0.  0. 14.  0.  0.  0.  0.  0.  0.  0.  1.  0.]\n",
            " [ 0.  1.  0.  0.  0.  0. 14.  0.  0.  0.  0.  0.  0.  1.  0.]\n",
            " [ 0.  1.  0.  0.  0.  0.  0. 14.  0.  0.  0.  0.  0.  1.  0.]\n",
            " [ 0.  1.  0.  0.  0.  0.  0.  0. 14.  0.  0.  0.  0.  1.  0.]\n",
            " [ 0.  1.  0.  0.  0.  0.  0.  0.  0. 14.  0.  0.  0.  1.  0.]\n",
            " [ 0.  1.  0.  0.  0.  0.  0.  0.  0.  0. 14.  0.  0.  1.  0.]\n",
            " [ 0.  1.  0.  0.  0.  0.  0.  0.  0.  0.  0. 14.  0.  1.  0.]\n",
            " [ 0.  1.  0.  0.  0.  0.  0.  0.  0.  0.  0.  0. 14.  1.  0.]\n",
            " [ 0.  1.  1.  1.  1.  1.  1.  1.  1.  1.  1.  1.  1. 14.  0.]\n",
            " [ 0.  0.  0.  0.  0.  0.  0.  0.  0.  0.  0.  0.  0.  0. 14.]]\n"
          ]
        }
      ]
    },
    {
      "cell_type": "code",
      "source": [
        "g_04 = np.ones((9,9))*9\n",
        "k_04 = np.identity(9) * 12\n",
        "m_04 = g_04 + k_04\n",
        "print(m_04)"
      ],
      "metadata": {
        "colab": {
          "base_uri": "https://localhost:8080/"
        },
        "id": "td-5wSxAN3du",
        "outputId": "12452969-cc32-4ca9-87df-2bcc24327584"
      },
      "execution_count": null,
      "outputs": [
        {
          "output_type": "stream",
          "name": "stdout",
          "text": [
            "[[21.  9.  9.  9.  9.  9.  9.  9.  9.]\n",
            " [ 9. 21.  9.  9.  9.  9.  9.  9.  9.]\n",
            " [ 9.  9. 21.  9.  9.  9.  9.  9.  9.]\n",
            " [ 9.  9.  9. 21.  9.  9.  9.  9.  9.]\n",
            " [ 9.  9.  9.  9. 21.  9.  9.  9.  9.]\n",
            " [ 9.  9.  9.  9.  9. 21.  9.  9.  9.]\n",
            " [ 9.  9.  9.  9.  9.  9. 21.  9.  9.]\n",
            " [ 9.  9.  9.  9.  9.  9.  9. 21.  9.]\n",
            " [ 9.  9.  9.  9.  9.  9.  9.  9. 21.]]\n"
          ]
        }
      ]
    },
    {
      "cell_type": "code",
      "source": [
        "h_04[3:-3,3:-3] = m_04\n",
        "print(h_04)"
      ],
      "metadata": {
        "colab": {
          "base_uri": "https://localhost:8080/"
        },
        "id": "hnX-oXZEPiqA",
        "outputId": "4939dc94-c868-49b0-9b17-2e7f529360a4"
      },
      "execution_count": null,
      "outputs": [
        {
          "output_type": "stream",
          "name": "stdout",
          "text": [
            "[[14.  0.  0.  0.  0.  0.  0.  0.  0.  0.  0.  0.  0.  0.  0.]\n",
            " [ 0. 14.  1.  1.  1.  1.  1.  1.  1.  1.  1.  1.  1.  1.  0.]\n",
            " [ 0.  1. 14.  0.  0.  0.  0.  0.  0.  0.  0.  0.  0.  1.  0.]\n",
            " [ 0.  1.  0. 21.  9.  9.  9.  9.  9.  9.  9.  9.  0.  1.  0.]\n",
            " [ 0.  1.  0.  9. 21.  9.  9.  9.  9.  9.  9.  9.  0.  1.  0.]\n",
            " [ 0.  1.  0.  9.  9. 21.  9.  9.  9.  9.  9.  9.  0.  1.  0.]\n",
            " [ 0.  1.  0.  9.  9.  9. 21.  9.  9.  9.  9.  9.  0.  1.  0.]\n",
            " [ 0.  1.  0.  9.  9.  9.  9. 21.  9.  9.  9.  9.  0.  1.  0.]\n",
            " [ 0.  1.  0.  9.  9.  9.  9.  9. 21.  9.  9.  9.  0.  1.  0.]\n",
            " [ 0.  1.  0.  9.  9.  9.  9.  9.  9. 21.  9.  9.  0.  1.  0.]\n",
            " [ 0.  1.  0.  9.  9.  9.  9.  9.  9.  9. 21.  9.  0.  1.  0.]\n",
            " [ 0.  1.  0.  9.  9.  9.  9.  9.  9.  9.  9. 21.  0.  1.  0.]\n",
            " [ 0.  1.  0.  0.  0.  0.  0.  0.  0.  0.  0.  0. 14.  1.  0.]\n",
            " [ 0.  1.  1.  1.  1.  1.  1.  1.  1.  1.  1.  1.  1. 14.  0.]\n",
            " [ 0.  0.  0.  0.  0.  0.  0.  0.  0.  0.  0.  0.  0.  0. 14.]]\n"
          ]
        }
      ]
    },
    {
      "cell_type": "code",
      "source": [
        "p_04 = np.identity(7)*9\n",
        "h_04[4:-4,4:-4] = p_04\n",
        "print(h_04)"
      ],
      "metadata": {
        "id": "9tsH9i0kQQcY",
        "colab": {
          "base_uri": "https://localhost:8080/"
        },
        "outputId": "26509bad-771f-4f50-9545-b25e05b73dd9"
      },
      "execution_count": null,
      "outputs": [
        {
          "output_type": "stream",
          "name": "stdout",
          "text": [
            "[[14.  0.  0.  0.  0.  0.  0.  0.  0.  0.  0.  0.  0.  0.  0.]\n",
            " [ 0. 14.  1.  1.  1.  1.  1.  1.  1.  1.  1.  1.  1.  1.  0.]\n",
            " [ 0.  1. 14.  0.  0.  0.  0.  0.  0.  0.  0.  0.  0.  1.  0.]\n",
            " [ 0.  1.  0. 21.  9.  9.  9.  9.  9.  9.  9.  9.  0.  1.  0.]\n",
            " [ 0.  1.  0.  9.  9.  0.  0.  0.  0.  0.  0.  9.  0.  1.  0.]\n",
            " [ 0.  1.  0.  9.  0.  9.  0.  0.  0.  0.  0.  9.  0.  1.  0.]\n",
            " [ 0.  1.  0.  9.  0.  0.  9.  0.  0.  0.  0.  9.  0.  1.  0.]\n",
            " [ 0.  1.  0.  9.  0.  0.  0.  9.  0.  0.  0.  9.  0.  1.  0.]\n",
            " [ 0.  1.  0.  9.  0.  0.  0.  0.  9.  0.  0.  9.  0.  1.  0.]\n",
            " [ 0.  1.  0.  9.  0.  0.  0.  0.  0.  9.  0.  9.  0.  1.  0.]\n",
            " [ 0.  1.  0.  9.  0.  0.  0.  0.  0.  0.  9.  9.  0.  1.  0.]\n",
            " [ 0.  1.  0.  9.  9.  9.  9.  9.  9.  9.  9. 21.  0.  1.  0.]\n",
            " [ 0.  1.  0.  0.  0.  0.  0.  0.  0.  0.  0.  0. 14.  1.  0.]\n",
            " [ 0.  1.  1.  1.  1.  1.  1.  1.  1.  1.  1.  1.  1. 14.  0.]\n",
            " [ 0.  0.  0.  0.  0.  0.  0.  0.  0.  0.  0.  0.  0.  0. 14.]]\n"
          ]
        }
      ]
    },
    {
      "cell_type": "code",
      "source": [
        "p_04 = np.array([-2,0,5,8,-5])\n",
        "print(p_04)\n",
        "print('===============================')\n",
        "q_04 = p_04\n",
        "print(q_04)\n",
        "print('===============================')\n",
        "q_04[2] = -6\n",
        "print(q_04)\n",
        "print('===============================')\n",
        "print(p_04)"
      ],
      "metadata": {
        "id": "tNtVf1qhqjyn",
        "colab": {
          "base_uri": "https://localhost:8080/"
        },
        "outputId": "40113962-a9f6-44da-ff3a-9d4e181bbaa7"
      },
      "execution_count": null,
      "outputs": [
        {
          "output_type": "stream",
          "name": "stdout",
          "text": [
            "[-2  0  5  8 -5]\n",
            "===============================\n",
            "[-2  0  5  8 -5]\n",
            "===============================\n",
            "[-2  0 -6  8 -5]\n",
            "===============================\n",
            "[-2  0 -6  8 -5]\n"
          ]
        }
      ]
    },
    {
      "cell_type": "code",
      "source": [
        "x_04 = np.array([-2,-8,5,9,0])\n",
        "print(x_04)\n",
        "print('===============================')\n",
        "y_04 = x_04.copy()\n",
        "print(y_04)\n",
        "print('===============================')\n",
        "y_04[3] = 17\n",
        "print(y_04)\n",
        "print('===============================')\n",
        "print(x_04)"
      ],
      "metadata": {
        "id": "Apfcnl4srx1k",
        "colab": {
          "base_uri": "https://localhost:8080/"
        },
        "outputId": "3c18c51d-5be3-4e21-9529-c3c9403360bc"
      },
      "execution_count": null,
      "outputs": [
        {
          "output_type": "stream",
          "name": "stdout",
          "text": [
            "[-2 -8  5  9  0]\n",
            "===============================\n",
            "[-2 -8  5  9  0]\n",
            "===============================\n",
            "[-2 -8  5 17  0]\n",
            "===============================\n",
            "[-2 -8  5  9  0]\n"
          ]
        }
      ]
    },
    {
      "cell_type": "code",
      "source": [
        "q_04 = np.array([2,4,6,8,10])\n",
        "print(q_04)\n",
        "p_04 = np.array([1,3,5,7,9])\n",
        "print(p_04)"
      ],
      "metadata": {
        "id": "XaQxzfo9kdrm",
        "colab": {
          "base_uri": "https://localhost:8080/"
        },
        "outputId": "3349cd97-7419-4ea1-c60e-e10fb38a733e"
      },
      "execution_count": null,
      "outputs": [
        {
          "output_type": "stream",
          "name": "stdout",
          "text": [
            "[ 2  4  6  8 10]\n",
            "[1 3 5 7 9]\n"
          ]
        }
      ]
    },
    {
      "cell_type": "code",
      "source": [
        "q_04+p_04\n"
      ],
      "metadata": {
        "id": "XLhW9TCekyUc",
        "colab": {
          "base_uri": "https://localhost:8080/"
        },
        "outputId": "a946b3fd-fdb6-4037-d185-a87174288ac1"
      },
      "execution_count": null,
      "outputs": [
        {
          "output_type": "execute_result",
          "data": {
            "text/plain": [
              "array([ 3,  7, 11, 15, 19])"
            ]
          },
          "metadata": {},
          "execution_count": 73
        }
      ]
    },
    {
      "cell_type": "code",
      "source": [
        "q_04-p_04"
      ],
      "metadata": {
        "id": "zaYi8lX4mOv-",
        "colab": {
          "base_uri": "https://localhost:8080/"
        },
        "outputId": "af0f1897-10f6-49a3-b5e6-6af8c14c831c"
      },
      "execution_count": null,
      "outputs": [
        {
          "output_type": "execute_result",
          "data": {
            "text/plain": [
              "array([1, 1, 1, 1, 1])"
            ]
          },
          "metadata": {},
          "execution_count": 74
        }
      ]
    },
    {
      "cell_type": "code",
      "source": [
        "q_04*p_04"
      ],
      "metadata": {
        "id": "XkJ647CImY1t",
        "colab": {
          "base_uri": "https://localhost:8080/"
        },
        "outputId": "fce6331f-e2dc-4a7b-cb54-f71b150a91b0"
      },
      "execution_count": null,
      "outputs": [
        {
          "output_type": "execute_result",
          "data": {
            "text/plain": [
              "array([ 2, 12, 30, 56, 90])"
            ]
          },
          "metadata": {},
          "execution_count": 75
        }
      ]
    },
    {
      "cell_type": "code",
      "source": [
        "q_04/p_04"
      ],
      "metadata": {
        "id": "V83O01ipmlQ7",
        "colab": {
          "base_uri": "https://localhost:8080/"
        },
        "outputId": "0672f307-29c6-4256-b88a-1bb00f0c32b1"
      },
      "execution_count": null,
      "outputs": [
        {
          "output_type": "execute_result",
          "data": {
            "text/plain": [
              "array([2.        , 1.33333333, 1.2       , 1.14285714, 1.11111111])"
            ]
          },
          "metadata": {},
          "execution_count": 76
        }
      ]
    },
    {
      "cell_type": "code",
      "source": [
        "p_04**q_04"
      ],
      "metadata": {
        "id": "Zh96_VZ2mrNn",
        "colab": {
          "base_uri": "https://localhost:8080/"
        },
        "outputId": "3f431f02-aa28-4b73-8635-a43833a95396"
      },
      "execution_count": null,
      "outputs": [
        {
          "output_type": "execute_result",
          "data": {
            "text/plain": [
              "array([         1,         81,      15625,    5764801, 3486784401])"
            ]
          },
          "metadata": {},
          "execution_count": 77
        }
      ]
    },
    {
      "cell_type": "code",
      "source": [
        "np.cos(q_04)"
      ],
      "metadata": {
        "id": "a_Nukg1Um6L2",
        "colab": {
          "base_uri": "https://localhost:8080/"
        },
        "outputId": "146c4d8f-4c89-4f3f-8541-c211bae34c9f"
      },
      "execution_count": null,
      "outputs": [
        {
          "output_type": "execute_result",
          "data": {
            "text/plain": [
              "array([-0.41614684, -0.65364362,  0.96017029, -0.14550003, -0.83907153])"
            ]
          },
          "metadata": {},
          "execution_count": 78
        }
      ]
    },
    {
      "cell_type": "code",
      "source": [
        "np.cos(p_04)"
      ],
      "metadata": {
        "id": "gz0vCuDsnBGn",
        "colab": {
          "base_uri": "https://localhost:8080/"
        },
        "outputId": "0f45d6d4-0f72-4a77-bb9c-9949481cdada"
      },
      "execution_count": null,
      "outputs": [
        {
          "output_type": "execute_result",
          "data": {
            "text/plain": [
              "array([ 0.54030231, -0.9899925 ,  0.28366219,  0.75390225, -0.91113026])"
            ]
          },
          "metadata": {},
          "execution_count": 79
        }
      ]
    },
    {
      "cell_type": "code",
      "source": [
        "np.sin(q_04)"
      ],
      "metadata": {
        "id": "eznh70zEnL9s",
        "colab": {
          "base_uri": "https://localhost:8080/"
        },
        "outputId": "36240c0b-032f-4845-e6e7-511af4bfd099"
      },
      "execution_count": null,
      "outputs": [
        {
          "output_type": "execute_result",
          "data": {
            "text/plain": [
              "array([ 0.90929743, -0.7568025 , -0.2794155 ,  0.98935825, -0.54402111])"
            ]
          },
          "metadata": {},
          "execution_count": 80
        }
      ]
    },
    {
      "cell_type": "code",
      "source": [
        "np.cosh(q_04)"
      ],
      "metadata": {
        "id": "5FoxUw45nUpc",
        "colab": {
          "base_uri": "https://localhost:8080/"
        },
        "outputId": "ec27edc4-9bd6-49da-8819-3e63201d9a1b"
      },
      "execution_count": null,
      "outputs": [
        {
          "output_type": "execute_result",
          "data": {
            "text/plain": [
              "array([3.76219569e+00, 2.73082328e+01, 2.01715636e+02, 1.49047916e+03,\n",
              "       1.10132329e+04])"
            ]
          },
          "metadata": {},
          "execution_count": 81
        }
      ]
    },
    {
      "cell_type": "code",
      "source": [
        "np.tanh(q_04)"
      ],
      "metadata": {
        "id": "Oo-SMquZoGoU",
        "colab": {
          "base_uri": "https://localhost:8080/"
        },
        "outputId": "cf234106-d7c2-4c4c-9a8d-7053883d4be0"
      },
      "execution_count": null,
      "outputs": [
        {
          "output_type": "execute_result",
          "data": {
            "text/plain": [
              "array([0.96402758, 0.9993293 , 0.99998771, 0.99999977, 1.        ])"
            ]
          },
          "metadata": {},
          "execution_count": 82
        }
      ]
    },
    {
      "cell_type": "code",
      "source": [
        "np.sqrt(q_04)"
      ],
      "metadata": {
        "id": "g9iQnNaxoKod",
        "colab": {
          "base_uri": "https://localhost:8080/"
        },
        "outputId": "5ca50699-7d0c-4ff4-a2df-1858655e01cb"
      },
      "execution_count": null,
      "outputs": [
        {
          "output_type": "execute_result",
          "data": {
            "text/plain": [
              "array([1.41421356, 2.        , 2.44948974, 2.82842712, 3.16227766])"
            ]
          },
          "metadata": {},
          "execution_count": 83
        }
      ]
    },
    {
      "cell_type": "code",
      "source": [
        "f_04 = np.array([[9,10,11,12],[13,14,15,16]])\n",
        "print(f_04)\n",
        "g_04 = np.array([[1,2,3,4],[5,6,7,8]])\n",
        "print(g_04)"
      ],
      "metadata": {
        "id": "30aoc8PhAJMY",
        "colab": {
          "base_uri": "https://localhost:8080/"
        },
        "outputId": "142086b4-ce9c-4d83-b4af-7ae02a868f37"
      },
      "execution_count": 4,
      "outputs": [
        {
          "output_type": "stream",
          "name": "stdout",
          "text": [
            "[[ 9 10 11 12]\n",
            " [13 14 15 16]]\n",
            "[[1 2 3 4]\n",
            " [5 6 7 8]]\n"
          ]
        }
      ]
    },
    {
      "cell_type": "code",
      "source": [
        "l_04 = f_04*g_04\n",
        "print(l_04)"
      ],
      "metadata": {
        "colab": {
          "base_uri": "https://localhost:8080/"
        },
        "id": "FHg5tPMNg6PE",
        "outputId": "009ecd30-2891-49e4-bb1b-b2ccd6cdbabb"
      },
      "execution_count": 6,
      "outputs": [
        {
          "output_type": "stream",
          "name": "stdout",
          "text": [
            "[[  9  20  33  48]\n",
            " [ 65  84 105 128]]\n"
          ]
        }
      ]
    },
    {
      "cell_type": "code",
      "source": [
        "s_04 = np.array([[-1,-2],[-3,-4],[-5,-6],[-7,-8]])\n",
        "print(s_04)"
      ],
      "metadata": {
        "colab": {
          "base_uri": "https://localhost:8080/"
        },
        "id": "CavkfFxmhE7Y",
        "outputId": "f9c9a420-04a4-4ccd-8987-1d876b833c7c"
      },
      "execution_count": 7,
      "outputs": [
        {
          "output_type": "stream",
          "name": "stdout",
          "text": [
            "[[-1 -2]\n",
            " [-3 -4]\n",
            " [-5 -6]\n",
            " [-7 -8]]\n"
          ]
        }
      ]
    },
    {
      "cell_type": "code",
      "source": [
        "t_04 = np.matmul(f_04,s_04)\n",
        "print(t_04)"
      ],
      "metadata": {
        "colab": {
          "base_uri": "https://localhost:8080/"
        },
        "id": "UvsAM9-cg4F4",
        "outputId": "e737dae1-6d72-4a5b-f1af-a96273192ee4"
      },
      "execution_count": 8,
      "outputs": [
        {
          "output_type": "stream",
          "name": "stdout",
          "text": [
            "[[-178 -220]\n",
            " [-242 -300]]\n"
          ]
        }
      ]
    },
    {
      "cell_type": "code",
      "source": [
        "b_04 = np.array([[1,3,5,-7],\n",
        "                 [0,3,-5,7],\n",
        "                 [16,0,-9,7]])\n",
        "print(b_04)"
      ],
      "metadata": {
        "colab": {
          "base_uri": "https://localhost:8080/"
        },
        "id": "mOcGZIBYidXg",
        "outputId": "6c8e0429-a68c-47b7-9d17-c296dde4bca6"
      },
      "execution_count": 4,
      "outputs": [
        {
          "output_type": "stream",
          "name": "stdout",
          "text": [
            "[[ 1  3  5 -7]\n",
            " [ 0  3 -5  7]\n",
            " [16  0 -9  7]]\n"
          ]
        }
      ]
    },
    {
      "cell_type": "code",
      "source": [
        "c_04 = np.min(b_04)\n",
        "print(c_04)"
      ],
      "metadata": {
        "colab": {
          "base_uri": "https://localhost:8080/"
        },
        "id": "RD8kCQGkitOl",
        "outputId": "7da9c439-6eb6-445c-be66-2c0e78e6c80c"
      },
      "execution_count": 5,
      "outputs": [
        {
          "output_type": "stream",
          "name": "stdout",
          "text": [
            "-9\n"
          ]
        }
      ]
    },
    {
      "cell_type": "code",
      "source": [
        "e_04 = np.min(b_04,axis=0)\n",
        "print(e_04)\n",
        "print('===============================')\n",
        "i_04 = np.min(b_04,axis=1)\n",
        "print(i_04)\n",
        "print('===============================')"
      ],
      "metadata": {
        "colab": {
          "base_uri": "https://localhost:8080/"
        },
        "id": "6BnXsGtqlTPD",
        "outputId": "43771aae-6b5b-44b1-e28c-089c0ca31bb5"
      },
      "execution_count": 7,
      "outputs": [
        {
          "output_type": "stream",
          "name": "stdout",
          "text": [
            "[ 0  0 -9 -7]\n",
            "===============================\n",
            "[-7 -5 -9]\n",
            "===============================\n"
          ]
        }
      ]
    },
    {
      "cell_type": "code",
      "source": [
        "u_04 = np.max(b_04)\n",
        "print(u_04)\n",
        "print('===============================')\n",
        "y_04 = np.max(b_04,axis=0)\n",
        "print(y_04)\n",
        "print('===============================')\n",
        "r_04 = np.max(b_04,axis=1)\n",
        "print(r_04)"
      ],
      "metadata": {
        "colab": {
          "base_uri": "https://localhost:8080/"
        },
        "id": "ZDoR08sTmWX6",
        "outputId": "da06443a-48a7-4092-e50f-aaf9b9fda4d5"
      },
      "execution_count": 9,
      "outputs": [
        {
          "output_type": "stream",
          "name": "stdout",
          "text": [
            "16\n",
            "===============================\n",
            "[16  3  5  7]\n",
            "===============================\n",
            "[ 5  7 16]\n"
          ]
        }
      ]
    },
    {
      "cell_type": "code",
      "source": [
        "a_04 = np.sum(b_04)\n",
        "print(a_04)\n",
        "print('===============================')\n",
        "d_04 = np.sum(b_04,axis=0)\n",
        "print(d_04)\n",
        "print('===============================')\n",
        "p_04 = np.sum(b_04,axis=1)\n",
        "print(p_04)"
      ],
      "metadata": {
        "colab": {
          "base_uri": "https://localhost:8080/"
        },
        "id": "-B3ueE8lnMrF",
        "outputId": "899e72f8-5180-4363-99c5-a1527bab9d1e"
      },
      "execution_count": 10,
      "outputs": [
        {
          "output_type": "stream",
          "name": "stdout",
          "text": [
            "21\n",
            "===============================\n",
            "[17  6 -9  7]\n",
            "===============================\n",
            "[ 2  5 14]\n"
          ]
        }
      ]
    }
  ]
}