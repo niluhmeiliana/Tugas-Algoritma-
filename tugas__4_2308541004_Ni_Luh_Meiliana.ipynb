{
  "nbformat": 4,
  "nbformat_minor": 0,
  "metadata": {
    "colab": {
      "provenance": []
    },
    "kernelspec": {
      "name": "python3",
      "display_name": "Python 3"
    },
    "language_info": {
      "name": "python"
    }
  },
  "cells": [
    {
      "cell_type": "code",
      "execution_count": null,
      "metadata": {
        "colab": {
          "base_uri": "https://localhost:8080/"
        },
        "id": "17yhUHuHjs-t",
        "outputId": "f42295a5-9109-4c70-d21a-8f2a60b98590"
      },
      "outputs": [
        {
          "output_type": "stream",
          "name": "stdout",
          "text": [
            "=====Nama-nama Planet=====\n",
            "['merkurius', 'venus', 'bumi', 'mars', 'jupiter', 'saturnus', 'uranus', 'neptunus']\n",
            "venus\n",
            "uranus\n",
            "mars\n",
            "['venus', 'bumi', 'mars']\n",
            "['merkurius', 'venus', 'bumi', 'mars', 'jupiter']\n",
            "['merkurius', 'venus', 'bumi', 'mars', 'jupiter', 'saturnus', 'uranus', 'neptunus']\n"
          ]
        }
      ],
      "source": [
        "print('=====Nama-nama Planet=====')\n",
        "planet_04 = ['merkurius', 'venus', 'bumi', 'mars', 'jupiter', 'saturnus', 'uranus', 'neptunus']\n",
        "print(planet_04)\n",
        "print(planet_04[1])\n",
        "print(planet_04[-2])\n",
        "print(planet_04[3])\n",
        "print(planet_04[1:4])\n",
        "print(planet_04[0:5])\n",
        "#tidak merubah list\n",
        "print(planet_04)"
      ]
    },
    {
      "cell_type": "code",
      "source": [
        "print('=====Tarian Daerah Bali=====')\n",
        "\n",
        "tari_04 = ['puspanjali', 'pendet', 'legong', 'sekar jagat', 'sekar sandat', 'cendrawasih', 'sekar jepun']\n",
        "tari_04.append('oleg')\n",
        "print(tari_04)\n",
        "\n",
        "tari_04.insert(5,'baris')\n",
        "print(tari_04)\n",
        "\n",
        "tari_04.remove('baris')\n",
        "print(tari_04)\n",
        "\n",
        "print('baris' in tari_04)\n",
        "\n",
        "print('pendet' in tari_04)\n",
        "\n",
        "print(len(tari_04))\n",
        "\n",
        "\n",
        "\n",
        "\n"
      ],
      "metadata": {
        "colab": {
          "base_uri": "https://localhost:8080/"
        },
        "id": "6HZkjVSCoIta",
        "outputId": "8b73f508-6766-40be-c889-ec210a042a82"
      },
      "execution_count": null,
      "outputs": [
        {
          "output_type": "stream",
          "name": "stdout",
          "text": [
            "=====Tarian Daerah Bali=====\n",
            "['puspanjali', 'pendet', 'legong', 'sekar jagat', 'sekar sandat', 'cendrawasih', 'sekar jepun', 'oleg']\n",
            "['puspanjali', 'pendet', 'legong', 'sekar jagat', 'sekar sandat', 'baris', 'cendrawasih', 'sekar jepun', 'oleg']\n",
            "['puspanjali', 'pendet', 'legong', 'sekar jagat', 'sekar sandat', 'cendrawasih', 'sekar jepun', 'oleg']\n",
            "False\n",
            "True\n",
            "8\n"
          ]
        }
      ]
    },
    {
      "cell_type": "code",
      "source": [
        "print('======Bilangan Prima======')\n",
        "\n",
        "bil_prima_04 = ['2', '3', '5', '7', '11', '13', '17', '19']\n",
        "for jumlah in bil_prima_04:\n",
        "  print(jumlah)"
      ],
      "metadata": {
        "id": "1P-Jyqgzs4xN",
        "colab": {
          "base_uri": "https://localhost:8080/"
        },
        "outputId": "832114ac-740d-440b-f835-b4fa5d99cade"
      },
      "execution_count": null,
      "outputs": [
        {
          "output_type": "stream",
          "name": "stdout",
          "text": [
            "======Bilangan Prima======\n",
            "2\n",
            "3\n",
            "5\n",
            "7\n",
            "11\n",
            "13\n",
            "17\n",
            "19\n"
          ]
        }
      ]
    },
    {
      "cell_type": "code",
      "source": [
        "print('===Zodiak===')\n",
        "\n",
        "nama_04= ['Capricorn', 'Aquarius', 'Pisces', 'Aries', 'Taurus', 'Gemini', 'Cancer', 'Leo', 'Virgo', 'Libra', 'Scorpio', 'Sagitarius']\n",
        "\n",
        "print(nama_04)\n",
        "print('===================================================================')\n",
        "print(nama_04[0:3:2])\n",
        "print('===================================================================')\n",
        "print(nama_04[3:-2])\n",
        "print('===================================================================')\n",
        "print(nama_04[-5])\n",
        "print('===================================================================')\n",
        "print(nama_04[2:5])"
      ],
      "metadata": {
        "colab": {
          "base_uri": "https://localhost:8080/"
        },
        "id": "il_s1rNpNFAe",
        "outputId": "0c0368ca-b801-4b03-b3cd-945f8ce5f5cc"
      },
      "execution_count": null,
      "outputs": [
        {
          "output_type": "stream",
          "name": "stdout",
          "text": [
            "===Zodiak===\n",
            "['Capricorn', 'Aquarius', 'Pisces', 'Aries', 'Taurus', 'Gemini', 'Cancer', 'Leo', 'Virgo', 'Libra', 'Scorpio', 'Sagitarius']\n",
            "===================================================================\n",
            "['Capricorn', 'Pisces']\n",
            "===================================================================\n",
            "['Aries', 'Taurus', 'Gemini', 'Cancer', 'Leo', 'Virgo', 'Libra']\n",
            "===================================================================\n",
            "Leo\n",
            "===================================================================\n",
            "['Pisces', 'Aries', 'Taurus']\n"
          ]
        }
      ]
    },
    {
      "cell_type": "code",
      "source": [
        "print('======Lembaga Mahasiswa======')\n",
        "\n",
        "lm_04 = ['BEM PM', 'DPM PM', 'BEM Fakultas', 'DPM', 'Himpunan Mahasiswa']\n",
        "for banyak in lm_04:\n",
        "  print(banyak)\n",
        "\n",
        "\n"
      ],
      "metadata": {
        "colab": {
          "base_uri": "https://localhost:8080/"
        },
        "id": "gCgkzwi4Q9Jf",
        "outputId": "7ddd5ac2-f667-491e-ac19-ca4f15b16f8f"
      },
      "execution_count": null,
      "outputs": [
        {
          "output_type": "stream",
          "name": "stdout",
          "text": [
            "======Lembaga Mahasiswa======\n",
            "BEM PM\n",
            "DPM PM\n",
            "BEM Fakultas\n",
            "DPM\n",
            "Himpunan Mahasiswa\n"
          ]
        }
      ]
    },
    {
      "cell_type": "code",
      "source": [
        "print('======Universitas di Bali======')\n",
        "\n",
        "Universitas_04 = ['Universitas Pendidikan Ganesha', 'Universitas Warmadewa', 'Universitas Mahasaraswati', 'Universitas Dhyana Pura', 'Universitas Pendidikan Nasional']\n",
        "\n",
        "Universitas_04.append('Universitas Ngurah Rai')\n",
        "print(Universitas_04)"
      ],
      "metadata": {
        "id": "1TuDAuyaVS-K",
        "colab": {
          "base_uri": "https://localhost:8080/"
        },
        "outputId": "b1a29ad0-2564-4161-f5ff-bb51e20c1f15"
      },
      "execution_count": null,
      "outputs": [
        {
          "output_type": "stream",
          "name": "stdout",
          "text": [
            "======Universitas di Bali======\n",
            "['Universitas Pendidikan Ganesha', 'Universitas Warmadewa', 'Universitas Mahasaraswati', 'Universitas Dhyana Pura', 'Universitas Pendidikan Nasional', 'Universitas Ngurah Rai']\n"
          ]
        }
      ]
    },
    {
      "cell_type": "code",
      "source": [
        "Universitas_04.insert(0,'Universitas Udayana')\n",
        "print(Universitas_04)"
      ],
      "metadata": {
        "colab": {
          "base_uri": "https://localhost:8080/"
        },
        "id": "fMFCnPmrZaoZ",
        "outputId": "f1eaa4ad-ce50-4e92-ead2-da7f430cfc9b"
      },
      "execution_count": null,
      "outputs": [
        {
          "output_type": "stream",
          "name": "stdout",
          "text": [
            "['Universitas Udayana', 'Universitas Pendidikan Ganesha', 'Universitas Warmadewa', 'Universitas Mahasaraswati', 'Universitas Dhyana Pura', 'Universitas Pendidikan Nasional', 'Universitas Ngurah Rai']\n"
          ]
        }
      ]
    },
    {
      "cell_type": "code",
      "source": [
        "Universitas_04.remove('Universitas Dhyana Pura')\n",
        "print(Universitas_04)"
      ],
      "metadata": {
        "colab": {
          "base_uri": "https://localhost:8080/"
        },
        "id": "zbLLPTh-Z3id",
        "outputId": "f1067000-6663-4308-e10d-ea78f3f585e6"
      },
      "execution_count": null,
      "outputs": [
        {
          "output_type": "stream",
          "name": "stdout",
          "text": [
            "['Universitas Udayana', 'Universitas Pendidikan Ganesha', 'Universitas Warmadewa', 'Universitas Mahasaraswati', 'Universitas Pendidikan Nasional', 'Universitas Ngurah Rai']\n"
          ]
        }
      ]
    },
    {
      "cell_type": "code",
      "source": [
        "print('Universitas Udayana' in Universitas_04)"
      ],
      "metadata": {
        "colab": {
          "base_uri": "https://localhost:8080/"
        },
        "id": "nwrI7rOVdQ_K",
        "outputId": "2fe2d59d-cf9f-4c65-95e9-af9650073aa5"
      },
      "execution_count": null,
      "outputs": [
        {
          "output_type": "stream",
          "name": "stdout",
          "text": [
            "True\n"
          ]
        }
      ]
    },
    {
      "cell_type": "code",
      "source": [
        "print('Universitas Warmadewa' in Universitas_04)"
      ],
      "metadata": {
        "colab": {
          "base_uri": "https://localhost:8080/"
        },
        "id": "fCMokuWleIMy",
        "outputId": "e49fcc2c-ad5d-441a-b0d0-76acf3ebc0b4"
      },
      "execution_count": null,
      "outputs": [
        {
          "output_type": "stream",
          "name": "stdout",
          "text": [
            "True\n"
          ]
        }
      ]
    },
    {
      "cell_type": "code",
      "source": [
        "print('Universitas Dhyana Pura' in Universitas_04)"
      ],
      "metadata": {
        "colab": {
          "base_uri": "https://localhost:8080/"
        },
        "id": "iaEku6BTehS-",
        "outputId": "4f19899c-3082-4ad6-b9b1-5ace0a496c79"
      },
      "execution_count": null,
      "outputs": [
        {
          "output_type": "stream",
          "name": "stdout",
          "text": [
            "False\n"
          ]
        }
      ]
    },
    {
      "cell_type": "code",
      "source": [
        "print('========== Alat Musik Tradisional ==========')\n",
        "\n",
        "alat_musik_04 = ['Angklung', 'Gong', 'Gendang', 'Kecapi', 'Suling', 'ceng-ceng', 'Sasando', 'Ketipung', 'Terompet Reog']\n",
        "print(alat_musik_04)"
      ],
      "metadata": {
        "colab": {
          "base_uri": "https://localhost:8080/"
        },
        "id": "LW5231B7_tCb",
        "outputId": "59bacb65-8662-404b-b77a-8c7e8d4f1430"
      },
      "execution_count": null,
      "outputs": [
        {
          "output_type": "stream",
          "name": "stdout",
          "text": [
            "========== Alat Musik Tradisional ==========\n",
            "['Angklung', 'Gong', 'Gendang', 'Kecapi', 'Suling', 'ceng-ceng', 'Sasando', 'Ketipung', 'Terompet Reog']\n"
          ]
        }
      ]
    },
    {
      "cell_type": "code",
      "source": [
        "print(alat_musik_04[2:5])"
      ],
      "metadata": {
        "colab": {
          "base_uri": "https://localhost:8080/"
        },
        "id": "6dah8lleBkkF",
        "outputId": "e199bd90-6b40-47a2-c05b-c1afd34be0f3"
      },
      "execution_count": null,
      "outputs": [
        {
          "output_type": "stream",
          "name": "stdout",
          "text": [
            "['Gendang', 'Kecapi', 'Suling']\n"
          ]
        }
      ]
    },
    {
      "cell_type": "code",
      "source": [
        "print(alat_musik_04[2:8])"
      ],
      "metadata": {
        "colab": {
          "base_uri": "https://localhost:8080/"
        },
        "id": "ntRiFQrZBt4h",
        "outputId": "5667e2bb-f729-491d-fa64-9d13bf7bf69c"
      },
      "execution_count": null,
      "outputs": [
        {
          "output_type": "stream",
          "name": "stdout",
          "text": [
            "['Gendang', 'Kecapi', 'Suling', 'ceng-ceng', 'Sasando', 'Ketipung']\n"
          ]
        }
      ]
    },
    {
      "cell_type": "code",
      "source": [
        "print(alat_musik_04[0:5])"
      ],
      "metadata": {
        "colab": {
          "base_uri": "https://localhost:8080/"
        },
        "id": "LiXNd7mHB2dj",
        "outputId": "2c19aa2b-0f73-4c2c-e141-106323572b42"
      },
      "execution_count": null,
      "outputs": [
        {
          "output_type": "stream",
          "name": "stdout",
          "text": [
            "['Angklung', 'Gong', 'Gendang', 'Kecapi', 'Suling']\n"
          ]
        }
      ]
    },
    {
      "cell_type": "code",
      "source": [
        "print(alat_musik_04[2:-5])"
      ],
      "metadata": {
        "colab": {
          "base_uri": "https://localhost:8080/"
        },
        "id": "RjBElUQPB92r",
        "outputId": "e867f386-2c2b-4299-a0eb-192219ddc98f"
      },
      "execution_count": null,
      "outputs": [
        {
          "output_type": "stream",
          "name": "stdout",
          "text": [
            "['Gendang', 'Kecapi']\n"
          ]
        }
      ]
    },
    {
      "cell_type": "code",
      "source": [
        "alat_musik_04[1] = 'keroncong'\n",
        "print(alat_musik_04)"
      ],
      "metadata": {
        "colab": {
          "base_uri": "https://localhost:8080/"
        },
        "id": "1ETJJVToGUjm",
        "outputId": "a1e5adcc-46a9-4799-db40-e646bb273e18"
      },
      "execution_count": null,
      "outputs": [
        {
          "output_type": "stream",
          "name": "stdout",
          "text": [
            "['Angklung', 'keroncong', 'Gendang', 'Kecapi', 'Suling', 'ceng-ceng', 'Sasando', 'Ketipung', 'Terompet Reog']\n"
          ]
        }
      ]
    },
    {
      "cell_type": "code",
      "source": [
        "#tidak mengubah list\n",
        "print(alat_musik_04)"
      ],
      "metadata": {
        "colab": {
          "base_uri": "https://localhost:8080/"
        },
        "id": "6uvE_kDfGho1",
        "outputId": "5be24c6a-f18e-446b-d747-2e71059c35aa"
      },
      "execution_count": null,
      "outputs": [
        {
          "output_type": "stream",
          "name": "stdout",
          "text": [
            "['Angklung', 'keroncong', 'Gendang', 'Kecapi', 'Suling', 'ceng-ceng', 'Sasando', 'Ketipung', 'Terompet Reog']\n"
          ]
        }
      ]
    },
    {
      "cell_type": "code",
      "source": [
        "print('========== Bangun Datar ==========')\n",
        "\n",
        "nama_04 = ['segitiga', 'persegi panjang', 'belah ketupat', 'layang-layang', 'trapesium', 'lingkaran']\n",
        "nama.append('persegi')\n",
        "print(nama_04)"
      ],
      "metadata": {
        "colab": {
          "base_uri": "https://localhost:8080/"
        },
        "id": "WE1jdV9edm67",
        "outputId": "a3e32035-d3fb-4bf4-c944-ea5653e72eef"
      },
      "execution_count": 7,
      "outputs": [
        {
          "output_type": "stream",
          "name": "stdout",
          "text": [
            "========== Bangun Datar ==========\n",
            "['segitiga', 'persegi panjang', 'belah ketupat', 'layang-layang', 'trapesium', 'lingkaran']\n"
          ]
        }
      ]
    },
    {
      "cell_type": "code",
      "source": [
        "nama_04.insert(0,'persegi panjang')\n",
        "print(nama_04)"
      ],
      "metadata": {
        "colab": {
          "base_uri": "https://localhost:8080/"
        },
        "id": "2ZtGLxKheeTu",
        "outputId": "7082b0a3-648a-4c0f-b476-8385e8fe1b2f"
      },
      "execution_count": 8,
      "outputs": [
        {
          "output_type": "stream",
          "name": "stdout",
          "text": [
            "['persegi panjang', 'segitiga', 'persegi panjang', 'belah ketupat', 'layang-layang', 'trapesium', 'lingkaran']\n"
          ]
        }
      ]
    },
    {
      "cell_type": "code",
      "source": [
        "nama_04.remove('lingkaran')\n",
        "print(nama_04)"
      ],
      "metadata": {
        "colab": {
          "base_uri": "https://localhost:8080/"
        },
        "id": "mbt2z2Bzenuf",
        "outputId": "e0134293-6584-476a-af95-e54b723b8927"
      },
      "execution_count": 9,
      "outputs": [
        {
          "output_type": "stream",
          "name": "stdout",
          "text": [
            "['persegi panjang', 'segitiga', 'persegi panjang', 'belah ketupat', 'layang-layang', 'trapesium']\n"
          ]
        }
      ]
    },
    {
      "cell_type": "code",
      "source": [
        "print('belah ketupat' in nama_04)"
      ],
      "metadata": {
        "colab": {
          "base_uri": "https://localhost:8080/"
        },
        "id": "VVrgQODCexg-",
        "outputId": "f3608bef-4362-440b-e1d0-ee9ce0646a33"
      },
      "execution_count": 10,
      "outputs": [
        {
          "output_type": "stream",
          "name": "stdout",
          "text": [
            "True\n"
          ]
        }
      ]
    },
    {
      "cell_type": "code",
      "source": [
        "print('lingkaran' in nama_04)"
      ],
      "metadata": {
        "colab": {
          "base_uri": "https://localhost:8080/"
        },
        "id": "0MkgFRmne4e9",
        "outputId": "ed509e6f-e584-4cb7-dd3f-73cb4c1fd58f"
      },
      "execution_count": 11,
      "outputs": [
        {
          "output_type": "stream",
          "name": "stdout",
          "text": [
            "False\n"
          ]
        }
      ]
    },
    {
      "cell_type": "code",
      "source": [
        "print(len(nama_04))"
      ],
      "metadata": {
        "colab": {
          "base_uri": "https://localhost:8080/"
        },
        "id": "EFMHCy5ofHtP",
        "outputId": "83eb44fb-b08c-4416-8335-fdf803500d07"
      },
      "execution_count": 12,
      "outputs": [
        {
          "output_type": "stream",
          "name": "stdout",
          "text": [
            "6\n"
          ]
        }
      ]
    },
    {
      "cell_type": "code",
      "source": [
        "print('===== Buah Musiman =====')\n",
        "\n",
        "buah_04 = ['nangka', 'melon', 'alpukat', 'rambutan', 'durian', 'sawo', 'manggis', 'durian']\n",
        "for jenis in buah_04:\n",
        "  print(jenis)"
      ],
      "metadata": {
        "colab": {
          "base_uri": "https://localhost:8080/"
        },
        "id": "z9PjmF7nGryb",
        "outputId": "902c1eb3-cf3e-4b98-c75f-85b83cb58e5c"
      },
      "execution_count": null,
      "outputs": [
        {
          "output_type": "stream",
          "name": "stdout",
          "text": [
            "===== Buah Musiman =====\n",
            "nangka\n",
            "melon\n",
            "alpukat\n",
            "rambutan\n",
            "durian\n",
            "sawo\n",
            "manggis\n",
            "durian\n"
          ]
        }
      ]
    }
  ]
}