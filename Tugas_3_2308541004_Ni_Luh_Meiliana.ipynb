{
  "nbformat": 4,
  "nbformat_minor": 0,
  "metadata": {
    "colab": {
      "provenance": []
    },
    "kernelspec": {
      "name": "python3",
      "display_name": "Python 3"
    },
    "language_info": {
      "name": "python"
    }
  },
  "cells": [
    {
      "cell_type": "code",
      "execution_count": null,
      "metadata": {
        "colab": {
          "base_uri": "https://localhost:8080/"
        },
        "id": "eTEcNIl4XAbs",
        "outputId": "8f37de4c-f2f1-4c7c-fc6a-d9332e180dbe"
      },
      "outputs": [
        {
          "output_type": "stream",
          "name": "stdout",
          "text": [
            "\n",
            "##\n",
            "####\n",
            "######\n",
            "########\n",
            "##########\n",
            "############\n",
            "##############\n",
            "################\n",
            "##################\n",
            "####################\n",
            "######################\n",
            "########################\n",
            "##########################\n",
            "############################\n",
            "##############################\n",
            "################################\n",
            "##################################\n",
            "####################################\n",
            "######################################\n"
          ]
        }
      ],
      "source": [
        "a = 0\n",
        "while a < 40:\n",
        "  print(a * '#')\n",
        "  a += 2"
      ]
    },
    {
      "cell_type": "code",
      "source": [
        "berat_badan = float(input('Berapakah berat badan anda?'))\n",
        "print('mari kita lihat tinggi badan anda melalui berat badan')\n",
        "if berat_badan >= 71:\n",
        "  print(\"anda memiliki tinggi badan 180 cm\")\n",
        "  print(\"anda memiliki bentuk tubuh yang sedang\")\n",
        "elif berat_badan >= 67:\n",
        "  print(\"anda memiliki tinggi badan 176 cm\")\n",
        "elif berat_badan >= 61:\n",
        "  print(\"anda memiliki tinggi badan 168 cm\")\n",
        "  print(\"anda memiliki bentuk tubuh yang sedang\")\n",
        "elif berat_badan >= 54:\n",
        "  print(\"anda memiliki tinggi badan 166 cm\")\n",
        "  print(\"anda memiliki bentuk tubuh yang kecil\")\n",
        "elif berat_badan >= 53:\n",
        "  print(\"anda memiliki tinggi badan 166 cm\")\n",
        "  print(\"anda memiliki bentuk tubuh sedang\")\n",
        "else:\n",
        "  print(\"anda memiliki tinggi badan 150n cm\")\n",
        "  print(\"anda memiliki bentuk tubuh yang kecil\")\n",
        "print(\"Tetap Jaga Kesehatan Ya\")"
      ],
      "metadata": {
        "colab": {
          "base_uri": "https://localhost:8080/"
        },
        "id": "YgN48DDhXDwa",
        "outputId": "94bdf19f-f4ce-4d28-8de0-61cde489ba97"
      },
      "execution_count": null,
      "outputs": [
        {
          "output_type": "stream",
          "name": "stdout",
          "text": [
            "Berapakah berat badan anda?56\n",
            "mari kita lihat tinggi badan anda melalui berat badan\n",
            "anda memiliki tinggi badan 166 cm\n",
            "anda memiliki bentuk tubuh yang kecil\n",
            "Tetap Jaga Kesehatan Ya\n"
          ]
        }
      ]
    },
    {
      "cell_type": "code",
      "source": [
        "a = 0\n",
        "while a < 50:\n",
        "  print(a * '$')\n",
        "  a += 3"
      ],
      "metadata": {
        "colab": {
          "base_uri": "https://localhost:8080/"
        },
        "id": "cLo4MZ7Fj0lR",
        "outputId": "1f658e2c-9ce6-4a99-9f78-92ccffd8c0f1"
      },
      "execution_count": null,
      "outputs": [
        {
          "output_type": "stream",
          "name": "stdout",
          "text": [
            "\n",
            "$$$\n",
            "$$$$$$\n",
            "$$$$$$$$$\n",
            "$$$$$$$$$$$$\n",
            "$$$$$$$$$$$$$$$\n",
            "$$$$$$$$$$$$$$$$$$\n",
            "$$$$$$$$$$$$$$$$$$$$$\n",
            "$$$$$$$$$$$$$$$$$$$$$$$$\n",
            "$$$$$$$$$$$$$$$$$$$$$$$$$$$\n",
            "$$$$$$$$$$$$$$$$$$$$$$$$$$$$$$\n",
            "$$$$$$$$$$$$$$$$$$$$$$$$$$$$$$$$$\n",
            "$$$$$$$$$$$$$$$$$$$$$$$$$$$$$$$$$$$$\n",
            "$$$$$$$$$$$$$$$$$$$$$$$$$$$$$$$$$$$$$$$\n",
            "$$$$$$$$$$$$$$$$$$$$$$$$$$$$$$$$$$$$$$$$$$\n",
            "$$$$$$$$$$$$$$$$$$$$$$$$$$$$$$$$$$$$$$$$$$$$$\n",
            "$$$$$$$$$$$$$$$$$$$$$$$$$$$$$$$$$$$$$$$$$$$$$$$$\n"
          ]
        }
      ]
    },
    {
      "cell_type": "code",
      "source": [
        "\n",
        "print(\"=== Mari Menghitung Luas dan Keliling Persegi \")\n",
        "\n",
        "sisi = int(input(\"masukkan panjang sisi : \"))\n",
        "op = str(input(\"Masukkan operasi |luas| |keliling| \"))\n",
        "\n",
        "if op == \"luas\" :\n",
        "  l = sisi*sisi\n",
        "  print(\"hasil penjumlahan : \", l)\n",
        "elif op == \"keliling\" :\n",
        "  k = sisi+sisi+sisi+sisi\n",
        "  print(\"Hasil pengurangan : \", k)\n",
        "else:\n",
        "  print(\"Masukkan operasi sesuai dengan perintah !\")"
      ],
      "metadata": {
        "colab": {
          "base_uri": "https://localhost:8080/"
        },
        "id": "ufRTnBfEkzbN",
        "outputId": "d3e9dfef-8797-467c-b6e5-28007073aaab"
      },
      "execution_count": null,
      "outputs": [
        {
          "output_type": "stream",
          "name": "stdout",
          "text": [
            "=== Mari Menghitung Luas dan Keliling Persegi \n",
            "masukkan panjang sisi : 25\n",
            "Masukkan operasi |luas| |keliling| keliling\n",
            "Hasil pengurangan :  100\n"
          ]
        }
      ]
    },
    {
      "cell_type": "code",
      "source": [
        "x = 2\n",
        "while x < 25:\n",
        "  print(x)\n",
        "  x += 2"
      ],
      "metadata": {
        "colab": {
          "base_uri": "https://localhost:8080/"
        },
        "id": "ZQqJaF0Dug0i",
        "outputId": "8b530360-0c63-4ae5-af00-a42ff67df2ba"
      },
      "execution_count": null,
      "outputs": [
        {
          "output_type": "stream",
          "name": "stdout",
          "text": [
            "2\n",
            "4\n",
            "6\n",
            "8\n",
            "10\n",
            "12\n",
            "14\n",
            "16\n",
            "18\n",
            "20\n",
            "22\n",
            "24\n"
          ]
        }
      ]
    },
    {
      "cell_type": "code",
      "source": [
        "z = 0\n",
        "while z < 15:\n",
        "  print(\"Semangat yaa kuliah nya ,pasti bisa sampai selesai sukses terus\")\n",
        "  z += 1"
      ],
      "metadata": {
        "colab": {
          "base_uri": "https://localhost:8080/"
        },
        "id": "jU_RphicvdMX",
        "outputId": "8fc08204-5718-4061-a864-cfa629651eb9"
      },
      "execution_count": null,
      "outputs": [
        {
          "output_type": "stream",
          "name": "stdout",
          "text": [
            "Semangat yaa kuliah nya ,pasti bisa sampai selesai sukses terus\n",
            "Semangat yaa kuliah nya ,pasti bisa sampai selesai sukses terus\n",
            "Semangat yaa kuliah nya ,pasti bisa sampai selesai sukses terus\n",
            "Semangat yaa kuliah nya ,pasti bisa sampai selesai sukses terus\n",
            "Semangat yaa kuliah nya ,pasti bisa sampai selesai sukses terus\n",
            "Semangat yaa kuliah nya ,pasti bisa sampai selesai sukses terus\n",
            "Semangat yaa kuliah nya ,pasti bisa sampai selesai sukses terus\n",
            "Semangat yaa kuliah nya ,pasti bisa sampai selesai sukses terus\n",
            "Semangat yaa kuliah nya ,pasti bisa sampai selesai sukses terus\n",
            "Semangat yaa kuliah nya ,pasti bisa sampai selesai sukses terus\n",
            "Semangat yaa kuliah nya ,pasti bisa sampai selesai sukses terus\n",
            "Semangat yaa kuliah nya ,pasti bisa sampai selesai sukses terus\n",
            "Semangat yaa kuliah nya ,pasti bisa sampai selesai sukses terus\n",
            "Semangat yaa kuliah nya ,pasti bisa sampai selesai sukses terus\n",
            "Semangat yaa kuliah nya ,pasti bisa sampai selesai sukses terus\n"
          ]
        }
      ]
    },
    {
      "cell_type": "code",
      "source": [
        "a = 1\n",
        "while a < 50:\n",
        "  print(a * '*')\n",
        "  a += 2"
      ],
      "metadata": {
        "colab": {
          "base_uri": "https://localhost:8080/"
        },
        "id": "Qc10jQqjyZS6",
        "outputId": "1c9d5f69-b163-4d83-94d0-ae8b0d2aad1b"
      },
      "execution_count": null,
      "outputs": [
        {
          "output_type": "stream",
          "name": "stdout",
          "text": [
            "*\n",
            "***\n",
            "*****\n",
            "*******\n",
            "*********\n",
            "***********\n",
            "*************\n",
            "***************\n",
            "*****************\n",
            "*******************\n",
            "*********************\n",
            "***********************\n",
            "*************************\n",
            "***************************\n",
            "*****************************\n",
            "*******************************\n",
            "*********************************\n",
            "***********************************\n",
            "*************************************\n",
            "***************************************\n",
            "*****************************************\n",
            "*******************************************\n",
            "*********************************************\n",
            "***********************************************\n",
            "*************************************************\n"
          ]
        }
      ]
    },
    {
      "cell_type": "code",
      "source": [
        " print(\"ibu membeli beras di pasar \")\n",
        " print(\"berapa jumlah beras yang ibu beli\")\n",
        "\n",
        " berat = float(input(\"berapakah ibu membeli beras dipasar?\"))\n",
        " kg_atau_gram = input(\"ibu membeli beras dalam kg atau gram?\")\n",
        "\n",
        " if kg_atau_gram.upper() == 'GRAM':\n",
        "  berat = berat*1000\n",
        "  print(\"ibu membeli beras sebanyak \" + str(berat) + \" kg\")\n",
        "elif kg_atau_gram.upper() == 'KG':\n",
        "  berat = berat/1000\n",
        "  print(\"ibu membeli beras sebanyak \" + str(berat) + \" gram\")\n"
      ],
      "metadata": {
        "colab": {
          "base_uri": "https://localhost:8080/"
        },
        "id": "HrG5oSY6ZVLq",
        "outputId": "4cc0dbe9-461f-4417-d9f9-669f7d38dc66"
      },
      "execution_count": null,
      "outputs": [
        {
          "output_type": "stream",
          "name": "stdout",
          "text": [
            "ibu membeli beras di pasar \n",
            "berapa jumlah beras yang ibu beli\n",
            "berapakah ibu membeli beras dipasar?4\n",
            "ibu membeli beras dalam kg atau gram?kg\n",
            "ibu membeli beras sebanyak 0.004 gram\n"
          ]
        }
      ]
    },
    {
      "cell_type": "code",
      "source": [
        " a = 0\n",
        " while a < 20:\n",
        "  print(a)\n",
        "  a += 1\n"
      ],
      "metadata": {
        "colab": {
          "base_uri": "https://localhost:8080/"
        },
        "id": "U3KUTwg2faJa",
        "outputId": "7bb8c675-fff9-4877-82aa-f4fec47d7924"
      },
      "execution_count": null,
      "outputs": [
        {
          "output_type": "stream",
          "name": "stdout",
          "text": [
            "0\n",
            "1\n",
            "2\n",
            "3\n",
            "4\n",
            "5\n",
            "6\n",
            "7\n",
            "8\n",
            "9\n",
            "10\n",
            "11\n",
            "12\n",
            "13\n",
            "14\n",
            "15\n",
            "16\n",
            "17\n",
            "18\n",
            "19\n"
          ]
        }
      ]
    },
    {
      "cell_type": "code",
      "source": [
        "tinggi = int(input(\"masukkan tinggi segitiga\"))\n",
        "baris = tinggi\n",
        "\n",
        "while baris > 0:\n",
        "  print(baris * ('#'))\n",
        "  baris -= 1"
      ],
      "metadata": {
        "colab": {
          "base_uri": "https://localhost:8080/"
        },
        "id": "t4nwh8dbnfdN",
        "outputId": "b6e63b80-5a63-4c81-e487-63dc7e88cead"
      },
      "execution_count": null,
      "outputs": [
        {
          "output_type": "stream",
          "name": "stdout",
          "text": [
            "masukkan tinggi segitiga20\n",
            "####################\n",
            "###################\n",
            "##################\n",
            "#################\n",
            "################\n",
            "###############\n",
            "##############\n",
            "#############\n",
            "############\n",
            "###########\n",
            "##########\n",
            "#########\n",
            "########\n",
            "#######\n",
            "######\n",
            "#####\n",
            "####\n",
            "###\n",
            "##\n",
            "#\n"
          ]
        }
      ]
    },
    {
      "cell_type": "code",
      "source": [
        "print('BILANGAN BULAT POSITIF')\n",
        "angka_1 = int(input('masukkan angka 1'))\n",
        "angka_2 = int(input('masukkan angka 2'))\n",
        "\n",
        "if angka_1 > 0:\n",
        "  print('angka yang anda masukkan merupakan bilangan bulat positif')\n",
        "\n",
        "else:\n",
        "  print('angka yang anda masukkan merupakan bilangan bulat negatif')\n"
      ],
      "metadata": {
        "colab": {
          "base_uri": "https://localhost:8080/"
        },
        "id": "UXXl7IW1BlZg",
        "outputId": "15c2e1d4-9bbb-4146-955f-361e2e1de1e5"
      },
      "execution_count": 2,
      "outputs": [
        {
          "output_type": "stream",
          "name": "stdout",
          "text": [
            "BILANGAN BULAT POSITIF\n",
            "masukkan angka 1-3\n",
            "masukkan angka 2-8\n",
            "angka yang anda masukkan merupakan bilangan bulat negatif\n"
          ]
        }
      ]
    }
  ]
}