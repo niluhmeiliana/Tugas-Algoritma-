{
  "nbformat": 4,
  "nbformat_minor": 0,
  "metadata": {
    "colab": {
      "provenance": []
    },
    "kernelspec": {
      "name": "python3",
      "display_name": "Python 3"
    },
    "language_info": {
      "name": "python"
    }
  },
  "cells": [
    {
      "cell_type": "code",
      "source": [
        "print(\"============================= Menemukan Bilangan Prima ============================= \")\n",
        "# Jika diketahui bahwa n adalah dua digit terakhir dari NIM kalian, maka tentukan biangan prima antara 1000*n sampai 1000*(n+1).\n",
        "#Diketahui n = 04\n",
        "# Range : 1000*n - 1000*(n+1)\n",
        "\n",
        "# 1. Import Library\n",
        "import math\n",
        "# 2. Mendefinikan fungsi untuk memesiksa suatu angka apakah termasuk bilangan prima\n",
        "def bilangan_prima(m_04):\n",
        "    if m_04 <= 1:\n",
        "        return False\n",
        "    if m_04 <= 3:\n",
        "        return True\n",
        "    if m_04 % 2 == 0 or m_04 % 3 == 0:\n",
        "        return False\n",
        "    i = 5\n",
        "    while i * i <= m_04:\n",
        "        if m_04 % i == 0 or m_04 % (i + 2) == 0:\n",
        "            return False\n",
        "        i += 6\n",
        "    return True\n",
        "# 3. Mendefinikan range dan fungsi untuk menemukan bilangan prima dengan range 1000*n - 1000*(n+1)\n",
        "def find_prima_in_range(n_04):\n",
        "    lower_bound = 1000 * n_04        # Menghitung batas bawah dan batas atas dari range\n",
        "    upper_bound = 1000 * (n_04 + 1)\n",
        "    prima = []\n",
        "    for m_04 in range(lower_bound, upper_bound):\n",
        "        if bilangan_prima(m_04):\n",
        "            prima.append(m_04)\n",
        "    return prima\n",
        "\n",
        "# 4. Menentukan nilai n sebagai 04\n",
        "n_04 = int('04')  # Mengubah '04' menjadi integer 4\n",
        "# 5. Menemukan bilangan prima dalam range untuk nilai n = 4\n",
        "prima = find_prima_in_range(n_04)\n",
        "# 6. Menampilkan hasil\n",
        "print(f\"Bilangan prima dengan range {1000*n_04} sampai {1000*(n_04 + 1)} adalah: {prima}\")\n",
        "\n",
        "print(\"========================================== Terima Kasih ========================================== \")\n"
      ],
      "metadata": {
        "colab": {
          "base_uri": "https://localhost:8080/"
        },
        "id": "JHOzwDM_3AF4",
        "outputId": "af9bc40f-032b-4f76-a252-cf34c9093f40"
      },
      "execution_count": null,
      "outputs": [
        {
          "output_type": "stream",
          "name": "stdout",
          "text": [
            "============================= Menemukan Bilangan Prima ============================= \n",
            "Bilangan prima dengan range 4000 sampai 5000 adalah: [4001, 4003, 4007, 4013, 4019, 4021, 4027, 4049, 4051, 4057, 4073, 4079, 4091, 4093, 4099, 4111, 4127, 4129, 4133, 4139, 4153, 4157, 4159, 4177, 4201, 4211, 4217, 4219, 4229, 4231, 4241, 4243, 4253, 4259, 4261, 4271, 4273, 4283, 4289, 4297, 4327, 4337, 4339, 4349, 4357, 4363, 4373, 4391, 4397, 4409, 4421, 4423, 4441, 4447, 4451, 4457, 4463, 4481, 4483, 4493, 4507, 4513, 4517, 4519, 4523, 4547, 4549, 4561, 4567, 4583, 4591, 4597, 4603, 4621, 4637, 4639, 4643, 4649, 4651, 4657, 4663, 4673, 4679, 4691, 4703, 4721, 4723, 4729, 4733, 4751, 4759, 4783, 4787, 4789, 4793, 4799, 4801, 4813, 4817, 4831, 4861, 4871, 4877, 4889, 4903, 4909, 4919, 4931, 4933, 4937, 4943, 4951, 4957, 4967, 4969, 4973, 4987, 4993, 4999]\n",
            "========================================== Terima Kasih ========================================== \n"
          ]
        }
      ]
    }
  ]
}