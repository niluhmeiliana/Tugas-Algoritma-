{
  "nbformat": 4,
  "nbformat_minor": 0,
  "metadata": {
    "colab": {
      "provenance": []
    },
    "kernelspec": {
      "name": "python3",
      "display_name": "Python 3"
    },
    "language_info": {
      "name": "python"
    }
  },
  "cells": [
    {
      "cell_type": "code",
      "execution_count": 1,
      "metadata": {
        "colab": {
          "base_uri": "https://localhost:8080/"
        },
        "id": "oZd-ne1bOxr4",
        "outputId": "0b87c6d2-7355-43fe-d7d5-13e822d0c56b"
      },
      "outputs": [
        {
          "output_type": "stream",
          "name": "stdout",
          "text": [
            "============== Menghitung nilai n jika x = (-1 + np.sqrt(5)) ==============\n",
            "Untuk nilai n yang memenuhi jika x = (-1 + np.sqrt(5)) adalah: 675.3333333333333\n",
            "================ Terima Kasih ================\n"
          ]
        }
      ],
      "source": [
        "print('============== Menghitung nilai n jika x = (-1 + np.sqrt(5)) ==============')\n",
        "# Diketahui x memenuhi x**2+x-1=0.\n",
        "# x**2=1-x\n",
        "# Tentukan nilai n yang memenuhi x**2024-x**2025 = (x(1-x))**n\n",
        "# Dengan menghitung secara manual di dapat nilai x yaitu\n",
        "# x1 = (-1 + np.sqrt(5)) / 2\n",
        "# x2 = (-1 - np.sqrt(5)) / 2\n",
        "# 1. Import library\n",
        "import numpy as np\n",
        "# 2. Masukkan nilai x\n",
        "x_04 = (-1 + np.sqrt(5)) / 2\n",
        "# 3. Hitung ruas kiri (lhs) dari persamaan x**2024 - x**2025 = (x(1-x))**n dengan menggunakan logaritma\n",
        "lhs_04 = 2024 * np.log(np.abs(x_04)) + np.log(np.abs(1 - x_04))\n",
        "# 4. Hitung ruas kanan (rsh) dari persamaan x**2024 - x**2025 = (x(1-x))**n\n",
        "rhs_04 = np.abs(x_04 * (1 - x_04))\n",
        "# 5. Hitung nilai n\n",
        "n_04 = lhs_04 / np.log(np.abs(rhs_04))\n",
        "# 6. Menampilkan hasil\n",
        "print(f\"Untuk nilai n yang memenuhi jika x = (-1 + np.sqrt(5)) adalah: {n_04}\")\n",
        "print('================ Terima Kasih ================')\n",
        "\n"
      ]
    },
    {
      "cell_type": "code",
      "source": [
        "print('============== Menghitung nilai n jika x = (-1 - np.sqrt(5)) ==============')\n",
        "# Diketahui x memenuhi x**2+x-1=0.\n",
        "# x**2=1-x\n",
        "# Tentukan nilai n yang memenuhi x**2024-x**2025 = (x(1-x))**n\n",
        "# Dengan menghitung secara manual di dapat nilai x yaitu\n",
        "# x1 = (-1 + np.sqrt(5)) / 2\n",
        "# x2 = (-1 - np.sqrt(5)) / 2\n",
        "# 1. Import library\n",
        "import numpy as np\n",
        "# 2. Masukkan nilai x\n",
        "x_04 = (-1 - np.sqrt(5)) / 2\n",
        "# 3. Hitung ruas kiri (lhs) dari persamaan x**2024 - x**2025 = (x(1-x))**n dengan menggunakan logaritma\n",
        "lhs_04 = 2024 * np.log(np.abs(x_04)) + np.log(np.abs(1 - x_04))\n",
        "# 4. Hitung ruas kanan (rhs) dari persamaan x**2024 - x**2025 = (x(1-x))**n dengan menggunakan logaritma\n",
        "rhs_04 = np.abs(x_04 * (1 - x_04))\n",
        "# 5. Hitung nilai n\n",
        "n_04 = lhs_04 / np.log(np.abs(rhs_04))\n",
        "# 6. Menampilkan hasil\n",
        "print(f\" Untuk nilai n yang memenuhi jika x = (-1 - np.sqrt(5))/2 adalah: {n_04}\")\n",
        "print('================ Terima Kasih ================')\n"
      ],
      "metadata": {
        "colab": {
          "base_uri": "https://localhost:8080/"
        },
        "id": "xxJnCZm6LtLx",
        "outputId": "5b4181f5-8338-4aab-9b76-44fdef71563a"
      },
      "execution_count": null,
      "outputs": [
        {
          "output_type": "stream",
          "name": "stdout",
          "text": [
            "============== Menghitung nilai n jika x = (-1 - np.sqrt(5)) ==============\n",
            " Untuk nilai n yang memenuhi jika x = (-1 - np.sqrt(5))/2 adalah: 675.3333333333335\n",
            "================ Terima Kasih ================\n"
          ]
        }
      ]
    },
    {
      "cell_type": "code",
      "source": [
        "print(\"================= Menghitung nilai n yang memenuhi x**2024-x**2025 = (x(1-x))**n =================\")\n",
        "# Diketahui x memenuhi x**2+x-1=0.\n",
        "# x**2=1-x\n",
        "# Tentukan nilai n yang memenuhi x**2024-x**2025 = (x(1-x))**n\n",
        "# Dengan menghitung secara manual di dapat nilai x yaitu\n",
        "# x1 = (-1 + np.sqrt(5)) / 2\n",
        "# x2 = (-1 - np.sqrt(5)) / 2\n",
        "# 1. Import library\n",
        "import numpy as np\n",
        "# 2. Definiskan fungsi untuk menghitung nilai n\n",
        "def menghitung_n_04(x_04):\n",
        "  # Hitung ruas kiri (lhs) dari persamaan x**2024 - x**2025 = (x(1-x))**n\n",
        "  lhs_04 = 2024 * np.log(np.abs(x_04)) + np.log(np.abs(1 - x_04))\n",
        "  # Hitung ruas kanan (rhs) dari persamaan x**2024 - x**2025 = (x(1-x))**n\n",
        "  rhs_04 = np.abs(x_04 * (1 - x_04))\n",
        "  # Hitung nilai n\n",
        "  n_04 = lhs_04 / np.log(np.abs(rhs_04))\n",
        "  return n_04\n",
        "# 3. Masukkan nilai x\n",
        "print('x1 = (-1 + np.sqrt(5)) / 2')\n",
        "print('x2 = (-1 - np.sqrt(5)) / 2 ')\n",
        "nilai_x_04 = input('masukkan nilai x1 atau x2')\n",
        "if nilai_x_04 == 'x1':\n",
        "  x_04 = (-1 + np.sqrt(5)) / 2\n",
        "  n_04 = menghitung_n_04(x_04)\n",
        "  print(f\"untuk nilai n yang memenuhi jika x = (-1 + np.sqrt(5)) / 2 adalah: {n_04}\")\n",
        "elif nilai_x_04 == 'x2':\n",
        "  x_04 = (-1 - np.sqrt(5)) / 2\n",
        "  n_04 = menghitung_n_04(x_04)\n",
        "  print(f\"untuk nilai n yang memenuhi jika x2 = (-1 - np.sqrt(5)) / 2 adalah: {n_04}\")\n",
        "else:\n",
        "  print(\"nilai x tidak sesuai\")\n",
        "\n",
        "# 4. Menunjukkan hasil\n",
        "print(f\"Untuk nilai n yang memenuhi x = {nilai_x_04} adalah: {n_04}\")\n",
        "print('================ Terima Kasih ================')\n"
      ],
      "metadata": {
        "colab": {
          "base_uri": "https://localhost:8080/"
        },
        "id": "0NzpJhaSU8QA",
        "outputId": "33078600-00b7-4bd0-d30e-64eb6a9414a9"
      },
      "execution_count": null,
      "outputs": [
        {
          "output_type": "stream",
          "name": "stdout",
          "text": [
            "================= Menghitung nilai n yang memenuhi x**2024-x**2025 = (x(1-x))**n =================\n",
            "x1 = (-1 + np.sqrt(5)) / 2\n",
            "x2 = (-1 - np.sqrt(5)) / 2 \n",
            "masukkan nilai x1 atau x2x1\n",
            "untuk nilai n yang memenuhi jika x = (-1 + np.sqrt(5)) / 2 adalah: 675.3333333333333\n",
            "Untuk nilai n yang memenuhi x = x1 adalah: 675.3333333333333\n",
            "================ Terima Kasih ================\n"
          ]
        }
      ]
    }
  ]
}