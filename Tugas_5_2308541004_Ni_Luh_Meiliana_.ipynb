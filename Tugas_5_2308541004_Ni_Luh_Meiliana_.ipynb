{
  "cells": [
    {
      "cell_type": "code",
      "execution_count": null,
      "metadata": {
        "colab": {
          "base_uri": "https://localhost:8080/"
        },
        "id": "PY3RuOK1OMbp",
        "outputId": "d89e2558-2b76-417b-8274-15c7755895f6"
      },
      "outputs": [
        {
          "output_type": "stream",
          "name": "stdout",
          "text": [
            "range(0, 50)\n",
            "====================\n",
            "0\n",
            "1\n",
            "2\n",
            "3\n",
            "4\n",
            "5\n",
            "6\n",
            "7\n",
            "8\n",
            "9\n",
            "10\n",
            "11\n",
            "12\n",
            "13\n",
            "14\n",
            "15\n",
            "16\n",
            "17\n",
            "18\n",
            "19\n",
            "20\n",
            "21\n",
            "22\n",
            "23\n",
            "24\n",
            "25\n",
            "26\n",
            "27\n",
            "28\n",
            "29\n",
            "30\n",
            "31\n",
            "32\n",
            "33\n",
            "34\n",
            "35\n",
            "36\n",
            "37\n",
            "38\n",
            "39\n",
            "40\n",
            "41\n",
            "42\n",
            "43\n",
            "44\n",
            "45\n",
            "46\n",
            "47\n",
            "48\n",
            "49\n",
            "====================\n",
            "0\n",
            "5\n",
            "10\n",
            "15\n"
          ]
        }
      ],
      "source": [
        "angka_04 = range(50)\n",
        "print(angka_04)\n",
        "print('====================')\n",
        "for isi in angka_04:\n",
        "  print(isi)\n",
        "print('====================')\n",
        "for isi in range(0,20,5):\n",
        "  print(isi)"
      ]
    },
    {
      "cell_type": "code",
      "execution_count": null,
      "metadata": {
        "colab": {
          "base_uri": "https://localhost:8080/"
        },
        "id": "0aRQyx_ESupO",
        "outputId": "ff89afc3-c899-4538-c49c-ea19492f90f0"
      },
      "outputs": [
        {
          "output_type": "stream",
          "name": "stdout",
          "text": [
            "150\n",
            "151\n",
            "152\n",
            "153\n",
            "154\n",
            "155\n",
            "156\n",
            "157\n",
            "158\n",
            "159\n",
            "160\n",
            "161\n",
            "162\n",
            "163\n",
            "164\n",
            "165\n",
            "166\n",
            "167\n",
            "168\n",
            "169\n",
            "170\n",
            "171\n",
            "172\n",
            "173\n",
            "174\n",
            "175\n",
            "176\n",
            "177\n",
            "178\n",
            "179\n",
            "180\n",
            "181\n",
            "182\n",
            "183\n",
            "184\n",
            "185\n",
            "186\n",
            "187\n",
            "188\n",
            "189\n",
            "190\n",
            "191\n",
            "192\n",
            "193\n",
            "194\n",
            "195\n",
            "196\n",
            "197\n",
            "198\n",
            "199\n",
            "200\n",
            "201\n",
            "202\n",
            "203\n",
            "204\n",
            "205\n",
            "206\n",
            "207\n",
            "208\n",
            "209\n",
            "210\n",
            "211\n",
            "212\n",
            "213\n",
            "214\n",
            "===================================\n",
            "150\n",
            "165\n",
            "180\n",
            "195\n",
            "210\n",
            "===================================\n",
            "100\n",
            "120\n",
            "140\n",
            "160\n",
            "180\n",
            "200\n",
            "220\n",
            "240\n",
            "260\n",
            "280\n"
          ]
        }
      ],
      "source": [
        "for bilangan_04 in range(150,215):\n",
        "  print(bilangan_04)\n",
        "print('===================================')\n",
        "for bilangan_04 in range(150,215,15):\n",
        "  print(bilangan_04)\n",
        "print('===================================')\n",
        "for isi_04 in range(100,300,20):\n",
        "  print(isi_04)"
      ]
    },
    {
      "cell_type": "code",
      "execution_count": null,
      "metadata": {
        "colab": {
          "base_uri": "https://localhost:8080/"
        },
        "id": "LszrWOGQQRTS",
        "outputId": "c753dfa4-3281-4d04-c541-4753f3b6f349"
      },
      "outputs": [
        {
          "output_type": "stream",
          "name": "stdout",
          "text": [
            "20\n"
          ]
        }
      ],
      "source": [
        "angka_04 = [1,20,3,4,5,6]\n",
        "terbesar = angka_04[0]\n",
        "for i in range(len(angka_04)):\n",
        "  if angka_04[i] > terbesar:\n",
        "    terbesar = angka_04[i]\n",
        "print(terbesar)"
      ]
    },
    {
      "cell_type": "code",
      "source": [
        "bilangan_ganjil_04 = [1,3,5,7,9,11,31,15,17,19,21,27,23,25,29,13]\n",
        "terbesar = bilangan_ganjil_04[0]\n",
        "for i in range(len(bilangan_ganjil_04)):\n",
        "  if bilangan_ganjil_04[i] > terbesar:\n",
        "    terbesar = bilangan_ganjil_04[i]\n",
        "print(terbesar)"
      ],
      "metadata": {
        "colab": {
          "base_uri": "https://localhost:8080/"
        },
        "id": "AYfGj5cbG8OL",
        "outputId": "9282f027-cc13-4e11-e4b8-a2c658e15cc4"
      },
      "execution_count": null,
      "outputs": [
        {
          "output_type": "stream",
          "name": "stdout",
          "text": [
            "31\n"
          ]
        }
      ]
    },
    {
      "cell_type": "code",
      "execution_count": 8,
      "metadata": {
        "colab": {
          "base_uri": "https://localhost:8080/"
        },
        "id": "pAbaTgNuRhvt",
        "outputId": "07cf46a7-ed7a-4749-d602-9a8b46472f55"
      },
      "outputs": [
        {
          "output_type": "stream",
          "name": "stdout",
          "text": [
            "[1, 3, 5, 6, 7, 9, 15, 8]\n"
          ]
        }
      ],
      "source": [
        "angka_04= [1,3,5,3,1,6,7,5,9,15,8,9,1,3,6,15]\n",
        "angka_unik_04 = []\n",
        "for anggota in angka_04:\n",
        "  if anggota not in angka_unik_04:\n",
        "    angka_unik_04.append(anggota)\n",
        "print(angka_unik_04)"
      ]
    },
    {
      "cell_type": "code",
      "execution_count": 1,
      "metadata": {
        "colab": {
          "base_uri": "https://localhost:8080/"
        },
        "id": "WHLCaRDvWTf_",
        "outputId": "c50007e9-81c6-44f1-ee2a-2caa4bca11ad"
      },
      "outputs": [
        {
          "output_type": "stream",
          "name": "stdout",
          "text": [
            "[[1, 2, 3, 4], [5, 6, 7, 8], [9, 10, 11, 12], [13, 14, 15, 16]]\n"
          ]
        }
      ],
      "source": [
        "matrik_04 = [\n",
        "    [1,2,3,4],\n",
        "    [5,6,7,8],\n",
        "    [9,10,11,12],\n",
        "    [13,14,15,16],\n",
        "]\n",
        "print(matrik_04)"
      ]
    },
    {
      "cell_type": "code",
      "execution_count": 2,
      "metadata": {
        "colab": {
          "base_uri": "https://localhost:8080/"
        },
        "id": "aWtBiOJuXhcs",
        "outputId": "50900218-dd56-47c1-c5af-d28b719456b4"
      },
      "outputs": [
        {
          "output_type": "execute_result",
          "data": {
            "text/plain": [
              "[9, 10, 11, 12]"
            ]
          },
          "metadata": {},
          "execution_count": 2
        }
      ],
      "source": [
        "matrik_04[2]"
      ]
    },
    {
      "cell_type": "code",
      "execution_count": 3,
      "metadata": {
        "colab": {
          "base_uri": "https://localhost:8080/"
        },
        "id": "KPw2EVqGXjrP",
        "outputId": "aa5a5497-d7b6-4b73-b23d-2c7c67289560"
      },
      "outputs": [
        {
          "output_type": "execute_result",
          "data": {
            "text/plain": [
              "8"
            ]
          },
          "metadata": {},
          "execution_count": 3
        }
      ],
      "source": [
        "matrik_04[1][3]"
      ]
    },
    {
      "cell_type": "code",
      "execution_count": 4,
      "metadata": {
        "id": "rs4d3siNXp6f",
        "colab": {
          "base_uri": "https://localhost:8080/"
        },
        "outputId": "91a04a13-8c37-4bb4-d5dd-9a861423b76b"
      },
      "outputs": [
        {
          "output_type": "stream",
          "name": "stdout",
          "text": [
            "50\n"
          ]
        }
      ],
      "source": [
        "matrik_04[1][3]=50\n",
        "print(matrik_04[1][3])"
      ]
    },
    {
      "cell_type": "code",
      "source": [
        "matrik_04"
      ],
      "metadata": {
        "colab": {
          "base_uri": "https://localhost:8080/"
        },
        "id": "_Ba9QkP9Or5H",
        "outputId": "0c1e7545-2dee-4acd-85a7-1790cf2a0a01"
      },
      "execution_count": 5,
      "outputs": [
        {
          "output_type": "execute_result",
          "data": {
            "text/plain": [
              "[[1, 2, 3, 4], [5, 6, 7, 50], [9, 10, 11, 12], [13, 14, 15, 16]]"
            ]
          },
          "metadata": {},
          "execution_count": 5
        }
      ]
    },
    {
      "cell_type": "code",
      "source": [
        "for baris_04 in matrik_04:\n",
        "  print(baris_04)\n",
        "  for kolom_04 in baris_04:\n",
        "    print(kolom_04)"
      ],
      "metadata": {
        "colab": {
          "base_uri": "https://localhost:8080/"
        },
        "id": "CT9XnsPoOuA4",
        "outputId": "6a94010f-b713-4ec9-dd80-670d8fcdddd3"
      },
      "execution_count": 8,
      "outputs": [
        {
          "output_type": "stream",
          "name": "stdout",
          "text": [
            "[1, 2, 3, 4]\n",
            "1\n",
            "2\n",
            "3\n",
            "4\n",
            "[5, 6, 7, 50]\n",
            "5\n",
            "6\n",
            "7\n",
            "50\n",
            "[9, 10, 11, 12]\n",
            "9\n",
            "10\n",
            "11\n",
            "12\n",
            "[13, 14, 15, 16]\n",
            "13\n",
            "14\n",
            "15\n",
            "16\n"
          ]
        }
      ]
    },
    {
      "cell_type": "code",
      "source": [
        "print('========== Morning Skincare ==========')\n",
        "\n",
        "nama_04 = ('Facial Wash', 'Toner', 'Serum', 'Moisturizer', 'Sunscreen')\n",
        "print(nama_04)\n",
        "\n",
        "print('====================')\n",
        "print(nama_04[0])"
      ],
      "metadata": {
        "colab": {
          "base_uri": "https://localhost:8080/"
        },
        "id": "xoxST9qiO5DL",
        "outputId": "9c588c5c-dd38-4e85-a094-3d10d0f8a9ca"
      },
      "execution_count": null,
      "outputs": [
        {
          "output_type": "stream",
          "name": "stdout",
          "text": [
            "========== Morning Skincare ==========\n",
            "('Facial Wash', 'Toner', 'Serum', 'Moisturizer', 'Sunscreen')\n",
            "====================\n",
            "Facial Wash\n"
          ]
        }
      ]
    },
    {
      "cell_type": "code",
      "source": [
        "print(nama_04[0:4])"
      ],
      "metadata": {
        "colab": {
          "base_uri": "https://localhost:8080/"
        },
        "id": "yTFogSVcStvL",
        "outputId": "c2163375-fa30-42db-f569-327a77eb6a24"
      },
      "execution_count": null,
      "outputs": [
        {
          "output_type": "stream",
          "name": "stdout",
          "text": [
            "('Facial Wash', 'Toner', 'Serum', 'Moisturizer')\n"
          ]
        }
      ]
    },
    {
      "cell_type": "code",
      "source": [
        "for isi in nama_04[0:4]:\n",
        "  print(isi)"
      ],
      "metadata": {
        "colab": {
          "base_uri": "https://localhost:8080/"
        },
        "id": "0rwzvTRmTEfp",
        "outputId": "f9c475c2-34b7-43ed-eac5-8f14a19e3fbd"
      },
      "execution_count": null,
      "outputs": [
        {
          "output_type": "stream",
          "name": "stdout",
          "text": [
            "Facial Wash\n",
            "Toner\n",
            "Serum\n",
            "Moisturizer\n"
          ]
        }
      ]
    },
    {
      "cell_type": "code",
      "source": [
        "bilangan_genap_04 = (2,4,6,8,10,2,8,12,2,16,4)\n",
        "print(bilangan_genap_04)\n",
        "print('====================')\n",
        "print(bilangan_genap_04[0:4])\n"
      ],
      "metadata": {
        "id": "q8QIRJdAUGWn",
        "colab": {
          "base_uri": "https://localhost:8080/"
        },
        "outputId": "c285b8c2-162c-4109-dd93-14e50f58a360"
      },
      "execution_count": null,
      "outputs": [
        {
          "output_type": "stream",
          "name": "stdout",
          "text": [
            "(2, 4, 6, 8, 10, 2, 8, 12, 2, 16, 4)\n",
            "====================\n",
            "(2, 4, 6, 8)\n"
          ]
        }
      ]
    },
    {
      "cell_type": "code",
      "source": [
        "for jumlah in bilangan_genap_04 [0:6]:\n",
        "  print(jumlah)"
      ],
      "metadata": {
        "colab": {
          "base_uri": "https://localhost:8080/"
        },
        "id": "HtGCDbJdX5ul",
        "outputId": "c8d27c83-89ff-4950-9580-d314b8934899"
      },
      "execution_count": null,
      "outputs": [
        {
          "output_type": "stream",
          "name": "stdout",
          "text": [
            "2\n",
            "4\n",
            "6\n",
            "8\n",
            "10\n",
            "2\n"
          ]
        }
      ]
    },
    {
      "cell_type": "code",
      "source": [
        "bilangan_genap_04.count(2)"
      ],
      "metadata": {
        "colab": {
          "base_uri": "https://localhost:8080/"
        },
        "id": "Pdz4lAqgamPS",
        "outputId": "99df5a4d-8f28-492b-9346-3be81ad5e9a0"
      },
      "execution_count": null,
      "outputs": [
        {
          "output_type": "execute_result",
          "data": {
            "text/plain": [
              "3"
            ]
          },
          "metadata": {},
          "execution_count": 8
        }
      ]
    },
    {
      "cell_type": "code",
      "source": [
        "bilangan_genap_04.index(6)"
      ],
      "metadata": {
        "colab": {
          "base_uri": "https://localhost:8080/"
        },
        "id": "xY2hmYDabfJu",
        "outputId": "2679c3ec-a062-4529-8210-6470d5fa54ce"
      },
      "execution_count": null,
      "outputs": [
        {
          "output_type": "execute_result",
          "data": {
            "text/plain": [
              "2"
            ]
          },
          "metadata": {},
          "execution_count": 9
        }
      ]
    },
    {
      "cell_type": "code",
      "source": [
        "identitas_orang_04 = {\n",
        "    'nama' : 'Diva Felizia',\n",
        "    'umur' : 19,\n",
        "    'apakah_singel' : False,\n",
        "    'pekerjaan' : 'mahasiswa'\n",
        "}"
      ],
      "metadata": {
        "id": "nwdJDlq7c9Gt"
      },
      "execution_count": null,
      "outputs": []
    },
    {
      "cell_type": "code",
      "source": [
        "print(identitas_orang_04['nama'])"
      ],
      "metadata": {
        "colab": {
          "base_uri": "https://localhost:8080/"
        },
        "id": "wmwPUvVyh6gj",
        "outputId": "b48c4ca1-0aa6-42b2-99c8-43ebc301de23"
      },
      "execution_count": null,
      "outputs": [
        {
          "output_type": "stream",
          "name": "stdout",
          "text": [
            "Diva Felizia\n"
          ]
        }
      ]
    },
    {
      "cell_type": "code",
      "source": [
        "print(identitas_orang_04.get('nama'))"
      ],
      "metadata": {
        "colab": {
          "base_uri": "https://localhost:8080/"
        },
        "id": "Z1nvp2fQiYF2",
        "outputId": "43b9e8d4-b77c-4e03-9b44-c351301d19fd"
      },
      "execution_count": null,
      "outputs": [
        {
          "output_type": "stream",
          "name": "stdout",
          "text": [
            "Diva Felizia\n"
          ]
        }
      ]
    },
    {
      "cell_type": "code",
      "source": [
        "print(identitas_orang_04.get('tanggal_lahir'))"
      ],
      "metadata": {
        "colab": {
          "base_uri": "https://localhost:8080/"
        },
        "id": "_yTNEmKHiud5",
        "outputId": "18b743d3-71df-47aa-dca8-fcf4c68e995f"
      },
      "execution_count": null,
      "outputs": [
        {
          "output_type": "stream",
          "name": "stdout",
          "text": [
            "None\n"
          ]
        }
      ]
    },
    {
      "cell_type": "code",
      "source": [
        "print(identitas_orang_04.get('tanggal_lahir', '18_november_2024'))"
      ],
      "metadata": {
        "colab": {
          "base_uri": "https://localhost:8080/"
        },
        "id": "CuJy-MJQi66I",
        "outputId": "7e12c5e0-b0bd-4815-b1af-e17bb2b05c0d"
      },
      "execution_count": null,
      "outputs": [
        {
          "output_type": "stream",
          "name": "stdout",
          "text": [
            "18_november_2024\n"
          ]
        }
      ]
    },
    {
      "cell_type": "code",
      "source": [
        "print(identitas_orang_04)"
      ],
      "metadata": {
        "colab": {
          "base_uri": "https://localhost:8080/"
        },
        "id": "CeH8tuLsjcbZ",
        "outputId": "f95d3259-ba02-4fae-e8dd-4a5a0ec8711c"
      },
      "execution_count": null,
      "outputs": [
        {
          "output_type": "stream",
          "name": "stdout",
          "text": [
            "{'nama': 'Diva Felizia', 'umur': 19, 'apakah_singel': False, 'pekerjaan': 'mahasiswa'}\n"
          ]
        }
      ]
    },
    {
      "cell_type": "code",
      "source": [
        "identitas_orang_04['HP'] = '089685742339'\n",
        "print(identitas_orang_04['HP'])"
      ],
      "metadata": {
        "id": "9-EvG0B1lZfG",
        "colab": {
          "base_uri": "https://localhost:8080/"
        },
        "outputId": "3b5271d4-03ff-455a-e3d3-bf383dbdaa94"
      },
      "execution_count": null,
      "outputs": [
        {
          "output_type": "stream",
          "name": "stdout",
          "text": [
            "089685742339\n"
          ]
        }
      ]
    },
    {
      "cell_type": "code",
      "source": [
        "print(identitas_orang_04)"
      ],
      "metadata": {
        "colab": {
          "base_uri": "https://localhost:8080/"
        },
        "id": "pQEz2Q-o1YRy",
        "outputId": "b2dcf09a-d3a7-4e79-eb5c-038343d193b7"
      },
      "execution_count": null,
      "outputs": [
        {
          "output_type": "stream",
          "name": "stdout",
          "text": [
            "{'nama': 'Diva Felizia', 'umur': 19, 'apakah_singel': False, 'pekerjaan': 'mahasiswa', 'HP': '089685742339'}\n"
          ]
        }
      ]
    },
    {
      "cell_type": "code",
      "source": [
        "huruf_04 = {\n",
        "    'a' : 'ayam',\n",
        "    'b' : 'babi',\n",
        "    'c' : 'cacing',\n",
        "    'd' : 'domba',\n",
        "    'e' : 'elang',\n",
        "    'f' : 'flaminggo',\n",
        "    'g' : 'gajah',\n",
        "    'h' : 'harimau',\n",
        "    'i' : 'ikan'\n",
        "}\n",
        "print('====================')\n",
        "sandi_04 = input('masukkan sandi yang ingin ada buat')\n",
        "sandi_huruf_04 = ''\n",
        "for isi in sandi_04:\n",
        "  sandi_huruf_04 += huruf_04.get(isi) + ' '\n",
        "print(sandi_huruf_04)\n"
      ],
      "metadata": {
        "colab": {
          "base_uri": "https://localhost:8080/"
        },
        "id": "HM6-vtwR1iPc",
        "outputId": "47848afe-44e7-4559-817a-9e4b5537ac63"
      },
      "execution_count": null,
      "outputs": [
        {
          "output_type": "stream",
          "name": "stdout",
          "text": [
            "====================\n",
            "masukkan sandi yang ingin ada buatgab\n",
            "gajah ayam babi \n"
          ]
        }
      ]
    },
    {
      "cell_type": "code",
      "source": [
        "def full_name(nama_tanaman_04,nama_latin_04):\n",
        "  print(f\"nama tanaman hias adalah {nama_tanaman_04} {nama_latin_04}\")\n",
        "\n",
        "print('===================')\n",
        "\n",
        "nama_tanaman_04 = input(\"Nama tanaman hias anda adalah  \")\n",
        "nama_latin_04 = input(\"Nama latin tanaman hias anda adalah \")\n",
        "full_name(nama_tanaman_04,nama_latin_04)"
      ],
      "metadata": {
        "id": "mgMQv4-O56PL",
        "colab": {
          "base_uri": "https://localhost:8080/"
        },
        "outputId": "41ac171f-e39c-420e-8c87-d7322de9237b"
      },
      "execution_count": 7,
      "outputs": [
        {
          "output_type": "stream",
          "name": "stdout",
          "text": [
            "===================\n",
            "Nama tanaman hias anda adalah  Anggrek\n",
            "Nama latin tanaman hias anda adalah Orchidaceae\n",
            "nama tanaman hias adalah Anggrek Orchidaceae\n"
          ]
        }
      ]
    },
    {
      "cell_type": "code",
      "source": [
        "def kecepatan_sampai_04(jarak,waktu):\n",
        "  kecepatan_04 = jarak/waktu\n",
        "  print(kecepatan_04)\n",
        "kecepatan_sampai_04(70,60)\n",
        "a = kecepatan_sampai_04(70,60)\n",
        "print(a)\n",
        "print('=====================================')\n",
        "def kecepatan_tempuh_04(jarak,waktu):\n",
        "  kecepatan_04 = jarak/waktu\n",
        "  print(kecepatan_04)\n",
        "kecepatan_tempuh_04(80,60)\n",
        "b = kecepatan_tempuh_04(80,60)\n",
        "print(b)"
      ],
      "metadata": {
        "colab": {
          "base_uri": "https://localhost:8080/"
        },
        "id": "4snwSvLy8Nfj",
        "outputId": "54784d69-e59e-4d6e-ebcc-f6d8d6bf48d8"
      },
      "execution_count": 7,
      "outputs": [
        {
          "output_type": "stream",
          "name": "stdout",
          "text": [
            "1.1666666666666667\n",
            "1.1666666666666667\n",
            "None\n",
            "=====================================\n",
            "1.3333333333333333\n",
            "1.3333333333333333\n",
            "None\n"
          ]
        }
      ]
    },
    {
      "cell_type": "code",
      "source": [],
      "metadata": {
        "id": "xyjLBE9iBRW-"
      },
      "execution_count": null,
      "outputs": []
    }
  ],
  "metadata": {
    "colab": {
      "provenance": []
    },
    "kernelspec": {
      "display_name": "Python 3",
      "name": "python3"
    },
    "language_info": {
      "name": "python"
    }
  },
  "nbformat": 4,
  "nbformat_minor": 0
}